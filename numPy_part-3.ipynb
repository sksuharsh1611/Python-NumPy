{
 "cells": [
  {
   "cell_type": "markdown",
   "id": "d1fd1574-b447-479c-a88a-085656d8c2d2",
   "metadata": {},
   "source": [
    "# Sort, Search & Counting function:"
   ]
  },
  {
   "cell_type": "code",
   "execution_count": 2,
   "id": "a507c582-26ca-4b6d-aa3f-3c79ab81707b",
   "metadata": {},
   "outputs": [],
   "source": [
    "import numpy as np"
   ]
  },
  {
   "cell_type": "code",
   "execution_count": 6,
   "id": "ce71231b-7963-44ec-824c-af0e41125e52",
   "metadata": {},
   "outputs": [],
   "source": [
    "# Declaring an array:\n",
    "arr = np.array([3,45,2,13,45,32,24,13,67,45,2,97,90,221,123])"
   ]
  },
  {
   "cell_type": "code",
   "execution_count": 7,
   "id": "9d8996fa-86b9-4d23-9fe0-a4bd256cc6c1",
   "metadata": {},
   "outputs": [
    {
     "data": {
      "text/plain": [
       "array([  2,   2,   3,  13,  13,  24,  32,  45,  45,  45,  67,  90,  97,\n",
       "       123, 221])"
      ]
     },
     "execution_count": 7,
     "metadata": {},
     "output_type": "execute_result"
    }
   ],
   "source": [
    "# Sorting: {By default ascending}\n",
    "np.sort(arr)"
   ]
  },
  {
   "cell_type": "code",
   "execution_count": 8,
   "id": "74cfffe8-345e-4c41-85b1-c9071938e576",
   "metadata": {},
   "outputs": [
    {
     "data": {
      "text/plain": [
       "8"
      ]
     },
     "execution_count": 8,
     "metadata": {},
     "output_type": "execute_result"
    }
   ],
   "source": [
    "# Where to put given element in existing array: Returns index\n",
    "np.searchsorted(arr, 34)"
   ]
  },
  {
   "cell_type": "code",
   "execution_count": 9,
   "id": "345bad08-89d2-4d05-ab4e-ac99935af8d4",
   "metadata": {},
   "outputs": [],
   "source": [
    "arr1 = np.array([0,4423,31,1322,42,0,0,0,0,0,0])"
   ]
  },
  {
   "cell_type": "code",
   "execution_count": 10,
   "id": "518125a6-f970-4086-b6cc-2d3af441dcb6",
   "metadata": {},
   "outputs": [
    {
     "data": {
      "text/plain": [
       "4"
      ]
     },
     "execution_count": 10,
     "metadata": {},
     "output_type": "execute_result"
    }
   ],
   "source": [
    "# Count of non-zeros data from an array:\n",
    "np.count_nonzero(arr1)"
   ]
  },
  {
   "cell_type": "code",
   "execution_count": 11,
   "id": "7e27626f-9514-44d0-aee7-a89ad8da884f",
   "metadata": {},
   "outputs": [
    {
     "data": {
      "text/plain": [
       "array([  3,  45,   2,  13,  45,  32,  24,  13,  67,  45,   2,  97,  90,\n",
       "       221, 123])"
      ]
     },
     "execution_count": 11,
     "metadata": {},
     "output_type": "execute_result"
    }
   ],
   "source": [
    "arr"
   ]
  },
  {
   "cell_type": "code",
   "execution_count": 13,
   "id": "d4501398-4d0a-424f-9762-a4c14305c4a4",
   "metadata": {},
   "outputs": [
    {
     "data": {
      "text/plain": [
       "(array([ 8, 11, 12, 13, 14]),)"
      ]
     },
     "execution_count": 13,
     "metadata": {},
     "output_type": "execute_result"
    }
   ],
   "source": [
    "# Filter out data more than 'n' and show their indexes : returns index\n",
    "np.where(arr > 45)"
   ]
  },
  {
   "cell_type": "code",
   "execution_count": 14,
   "id": "0bbfb490-34e4-4d4a-b70e-f9182d32072b",
   "metadata": {},
   "outputs": [
    {
     "data": {
      "text/plain": [
       "array([ 45,  13,  45,  32,  24,  13,  67,  45,  97,  90, 221, 123])"
      ]
     },
     "execution_count": 14,
     "metadata": {},
     "output_type": "execute_result"
    }
   ],
   "source": [
    "# Extract data based on given condition:\n",
    "np.extract(arr > 3 ,arr)"
   ]
  },
  {
   "cell_type": "markdown",
   "id": "b068eec2-bc63-4161-b7ce-361be2979e98",
   "metadata": {},
   "source": [
    "# Numpy --> Byte Swapping\n",
    "Converts given data into their bytes form"
   ]
  },
  {
   "cell_type": "code",
   "execution_count": 15,
   "id": "fa3bbf80-941e-41d7-a829-521d4730d8e4",
   "metadata": {},
   "outputs": [
    {
     "data": {
      "text/plain": [
       "array([  3,  45,   2,  13,  45,  32,  24,  13,  67,  45,   2,  97,  90,\n",
       "       221, 123])"
      ]
     },
     "execution_count": 15,
     "metadata": {},
     "output_type": "execute_result"
    }
   ],
   "source": [
    "arr"
   ]
  },
  {
   "cell_type": "code",
   "execution_count": 18,
   "id": "230ec805-43a9-4373-a789-2f69bf7e3edc",
   "metadata": {},
   "outputs": [
    {
     "data": {
      "text/plain": [
       "array([  216172782113783808,  3242591731706757120,   144115188075855872,\n",
       "         936748722493063168,  3242591731706757120,  2305843009213693952,\n",
       "        1729382256910270464,   936748722493063168,  4827858800541171712,\n",
       "        3242591731706757120,   144115188075855872,  6989586621679009792,\n",
       "        6485183463413514240, -2522015791327477760,  8863084066665136128])"
      ]
     },
     "execution_count": 18,
     "metadata": {},
     "output_type": "execute_result"
    }
   ],
   "source": [
    "# Converts to byte \n",
    "arr.byteswap()"
   ]
  },
  {
   "cell_type": "markdown",
   "id": "15ea8e1f-5fe9-44f4-b73c-ac5ac4aac13a",
   "metadata": {},
   "source": [
    "# Numpy --> Copies & Views"
   ]
  },
  {
   "cell_type": "code",
   "execution_count": 19,
   "id": "6dff5a63-20e9-4ebe-a718-d1231d5fde80",
   "metadata": {},
   "outputs": [
    {
     "data": {
      "text/plain": [
       "array([  3,  45,   2,  13,  45,  32,  24,  13,  67,  45,   2,  97,  90,\n",
       "       221, 123])"
      ]
     },
     "execution_count": 19,
     "metadata": {},
     "output_type": "execute_result"
    }
   ],
   "source": [
    "arr"
   ]
  },
  {
   "cell_type": "code",
   "execution_count": 21,
   "id": "a1b1be08-bd68-491d-b1a2-5d08883ea8d9",
   "metadata": {},
   "outputs": [],
   "source": [
    "# Creates copy of the array and stores in diff location. known as Deep Copy\n",
    "a = np.copy(arr)"
   ]
  },
  {
   "cell_type": "code",
   "execution_count": 22,
   "id": "d102031b-511b-4890-a334-b2ba40f3ec1e",
   "metadata": {},
   "outputs": [],
   "source": [
    "# Using view() : similar to Swallow copy {At same location reference is created}\n",
    "b = arr.view()"
   ]
  },
  {
   "cell_type": "code",
   "execution_count": null,
   "id": "6e4437c4-d66b-4a0f-a3a9-26f8adb4299c",
   "metadata": {},
   "outputs": [],
   "source": [
    "b = arr"
   ]
  },
  {
   "cell_type": "code",
   "execution_count": 23,
   "id": "0d29b011-e74d-4c63-89e0-b8bbe24d751a",
   "metadata": {},
   "outputs": [
    {
     "data": {
      "text/plain": [
       "array([  3,  45,   2,  13,  45,  32,  24,  13,  67,  45,   2,  97,  90,\n",
       "       221, 123])"
      ]
     },
     "execution_count": 23,
     "metadata": {},
     "output_type": "execute_result"
    }
   ],
   "source": [
    "b"
   ]
  },
  {
   "cell_type": "code",
   "execution_count": 24,
   "id": "19524f84-7445-4bf3-b803-36dc6fcfb82c",
   "metadata": {},
   "outputs": [
    {
     "data": {
      "text/plain": [
       "array([  3,  45,   2,  13,  45,  32,  24,  13,  67,  45,   2,  97,  90,\n",
       "       221, 123])"
      ]
     },
     "execution_count": 24,
     "metadata": {},
     "output_type": "execute_result"
    }
   ],
   "source": [
    "a"
   ]
  },
  {
   "cell_type": "code",
   "execution_count": 28,
   "id": "e01ec8c1-a59a-4370-93a2-5ce5f47fa29c",
   "metadata": {},
   "outputs": [],
   "source": [
    "b[0] = 56"
   ]
  },
  {
   "cell_type": "code",
   "execution_count": 27,
   "id": "0a4f8810-950b-4661-afda-4be2ccbc8514",
   "metadata": {},
   "outputs": [
    {
     "data": {
      "text/plain": [
       "array([ 56,  45,   2,  13,  45,  32,  24,  13,  67,  45,   2,  97,  90,\n",
       "       221, 123])"
      ]
     },
     "execution_count": 27,
     "metadata": {},
     "output_type": "execute_result"
    }
   ],
   "source": [
    "arr"
   ]
  },
  {
   "cell_type": "markdown",
   "id": "5d1c9f95-006d-4576-ae5e-aaeb1fd0d655",
   "metadata": {},
   "source": [
    "# Numpy --> Matrix Library"
   ]
  },
  {
   "cell_type": "code",
   "execution_count": 29,
   "id": "3a411807-35c8-4301-8e8e-7a27750e9789",
   "metadata": {},
   "outputs": [],
   "source": [
    "import numpy.matlib as nm\n",
    "# Matrix is sub-class of array\n",
    "# All operations are available in matrix library same as arrays."
   ]
  },
  {
   "cell_type": "code",
   "execution_count": 30,
   "id": "239c9f9a-27ed-4729-8ccd-85c4902801eb",
   "metadata": {},
   "outputs": [
    {
     "data": {
      "text/plain": [
       "matrix([[0., 0., 0., 0., 0.]])"
      ]
     },
     "execution_count": 30,
     "metadata": {},
     "output_type": "execute_result"
    }
   ],
   "source": [
    "# Generates matrices instead of array :> Always 2-D is generated\n",
    "nm.zeros(5)"
   ]
  },
  {
   "cell_type": "code",
   "execution_count": 31,
   "id": "aa4d9fc8-f8e0-4a7a-a7cb-d7432d07894c",
   "metadata": {},
   "outputs": [
    {
     "data": {
      "text/plain": [
       "matrix([[1., 1., 1., 1.],\n",
       "        [1., 1., 1., 1.],\n",
       "        [1., 1., 1., 1.]])"
      ]
     },
     "execution_count": 31,
     "metadata": {},
     "output_type": "execute_result"
    }
   ],
   "source": [
    "# generate ones with given dimension shape:\n",
    "nm.ones((3,4))"
   ]
  },
  {
   "cell_type": "code",
   "execution_count": 32,
   "id": "f5016bbf-66c0-491e-96e9-a640fd14b318",
   "metadata": {},
   "outputs": [
    {
     "data": {
      "text/plain": [
       "matrix([[1., 0., 0., 0., 0.],\n",
       "        [0., 1., 0., 0., 0.],\n",
       "        [0., 0., 1., 0., 0.],\n",
       "        [0., 0., 0., 1., 0.],\n",
       "        [0., 0., 0., 0., 1.]])"
      ]
     },
     "execution_count": 32,
     "metadata": {},
     "output_type": "execute_result"
    }
   ],
   "source": [
    "# Generate identity matrix:\n",
    "nm.eye(5)"
   ]
  },
  {
   "cell_type": "markdown",
   "id": "5e0f3544-f775-4c01-aaa4-878daf6e7cef",
   "metadata": {},
   "source": [
    "# Numpy --> Linear Algebra\n",
    "\n",
    ">>Mainly used in Machine Learning concept.\n",
    "\n",
    "ex: dot product, eagan vector, eagan values"
   ]
  },
  {
   "cell_type": "code",
   "execution_count": 33,
   "id": "e870c189-56e8-4f10-a78a-46397a7ba5dd",
   "metadata": {},
   "outputs": [],
   "source": [
    "arr1  = np.random.randint([[2,3],[4,5]])"
   ]
  },
  {
   "cell_type": "code",
   "execution_count": 34,
   "id": "e490b2f2-0fa7-46b5-b2c7-60caafeaa3dd",
   "metadata": {},
   "outputs": [],
   "source": [
    "arr2 = np.random.randint([[5,3],[2,5]])"
   ]
  },
  {
   "cell_type": "code",
   "execution_count": 35,
   "id": "9509572f-12a7-4ab8-a20b-df0354905297",
   "metadata": {},
   "outputs": [
    {
     "data": {
      "text/plain": [
       "array([[0, 0],\n",
       "       [6, 7]])"
      ]
     },
     "execution_count": 35,
     "metadata": {},
     "output_type": "execute_result"
    }
   ],
   "source": [
    "# Calculate dot product : matrix multiplication\n",
    "np.dot(arr1,arr2)"
   ]
  },
  {
   "cell_type": "code",
   "execution_count": 36,
   "id": "02b025a9-72a3-4aa8-9271-d6a014d65410",
   "metadata": {},
   "outputs": [
    {
     "data": {
      "text/plain": [
       "array([[0, 0],\n",
       "       [6, 7]])"
      ]
     },
     "execution_count": 36,
     "metadata": {},
     "output_type": "execute_result"
    }
   ],
   "source": [
    "# Same as @: Available as symbol as well as function : dot()\n",
    "arr1@arr2"
   ]
  },
  {
   "cell_type": "code",
   "execution_count": null,
   "id": "776cbb0d-ae70-4224-849c-a633c2a4236e",
   "metadata": {},
   "outputs": [],
   "source": []
  }
 ],
 "metadata": {
  "kernelspec": {
   "display_name": "Python 3 (ipykernel)",
   "language": "python",
   "name": "python3"
  },
  "language_info": {
   "codemirror_mode": {
    "name": "ipython",
    "version": 3
   },
   "file_extension": ".py",
   "mimetype": "text/x-python",
   "name": "python",
   "nbconvert_exporter": "python",
   "pygments_lexer": "ipython3",
   "version": "3.10.8"
  }
 },
 "nbformat": 4,
 "nbformat_minor": 5
}
