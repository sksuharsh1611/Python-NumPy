{
 "cells": [
  {
   "cell_type": "code",
   "execution_count": null,
   "id": "b4965016-723c-43e0-8c19-f9d2e998de19",
   "metadata": {},
   "outputs": [],
   "source": [
    "Consider the below code to answer further questions:\n",
    "import numpy as np\n",
    "list_ = [ ‘1’ , ’2’ , ‘3’ , ‘4’ , ‘5’ ]\n",
    "array_list = np.array(object = list_)\n",
    "\n",
    "Q1. Is there any difference in the data type of variables list_ and array_list? If there is then write a code\n",
    "to print the data types of both the variables.\n",
    "\n",
    "Q2. Write a code to print the data type of each and every element of both the variables list_ and\n",
    "arra_list.\n",
    "\n",
    "Q3. Considering the following changes in the variable, array_list:\n",
    "array_list = np.array(object = list_, dtype = int)\n",
    "Will there be any difference in the data type of the elements present in both the variables, list_ and\n",
    "arra_list? If so then print the data types of each and every element present in both the variables, list_\n",
    "and arra_list.\n",
    "\n",
    "Consider the below code to answer further questions:\n",
    "import numpy as np\n",
    "num_list = [ [ 1 , 2 , 3 ] , [ 4 , 5 , 6 ] ]\n",
    "num_array = np.array(object = num_list)\n",
    "\n",
    "Q4. Write a code to find the following characteristics of variable, num_array:\n",
    "(i) shape\n",
    "(ii) size\n",
    "\n",
    "Q5. Write a code to create numpy array of 3*3 matrix containing zeros only, using a numpy array\n",
    "creation function.\n",
    "[Hint: The size of the array will be 9 and the shape will be (3,3).]\n",
    "\n",
    "Q6. Create an identity matrix of shape (5,5) using numpy functions?\n",
    "[Hint: An identity matrix is a matrix containing 1 diagonally and other elements will be 0.]"
   ]
  },
  {
   "cell_type": "code",
   "execution_count": 2,
   "id": "384fb7bc-6824-4b44-a33d-ac2671788299",
   "metadata": {},
   "outputs": [],
   "source": [
    "# Sol 1:\n",
    "import numpy as np\n",
    "list_ = [ '1' , '2' , '3' , '4' , '5' ]\n",
    "array_list = np.array(object = list_)"
   ]
  },
  {
   "cell_type": "code",
   "execution_count": 14,
   "id": "ad21f126-b02d-4bac-b761-2c939416d824",
   "metadata": {},
   "outputs": [
    {
     "name": "stdout",
     "output_type": "stream",
     "text": [
      "Data Type of variable list_: <class 'list'> \n",
      "Data Type of variable array_list: <class 'numpy.ndarray'>\n"
     ]
    }
   ],
   "source": [
    "# Yes, there is difference in data types of both variables. One is simple list in python, other is numpy array.\n",
    "print(f\"Data Type of variable list_: {type(list_)} \\nData Type of variable array_list: {type(array_list)}\")"
   ]
  },
  {
   "cell_type": "code",
   "execution_count": 18,
   "id": "92d65463-0579-415b-940b-88bb3206c4c3",
   "metadata": {},
   "outputs": [
    {
     "data": {
      "text/plain": [
       "[str, str, str, str, str]"
      ]
     },
     "execution_count": 18,
     "metadata": {},
     "output_type": "execute_result"
    }
   ],
   "source": [
    "# Sol 2:\n",
    "[type(i) for i in list_]\n",
    "# Every element in list_ is of string type."
   ]
  },
  {
   "cell_type": "code",
   "execution_count": 19,
   "id": "986bc236-4145-4948-bd60-c2513d940392",
   "metadata": {},
   "outputs": [
    {
     "data": {
      "text/plain": [
       "dtype('<U1')"
      ]
     },
     "execution_count": 19,
     "metadata": {},
     "output_type": "execute_result"
    }
   ],
   "source": [
    "array_list.dtype\n",
    "# dtype('<U1') is a NumPy data type object representing a Unicode string of length 1."
   ]
  },
  {
   "cell_type": "code",
   "execution_count": 21,
   "id": "072b0e83-aeba-445c-8ede-12bcd30cf4c9",
   "metadata": {},
   "outputs": [],
   "source": [
    "# Sol 3:\n",
    "array_list = np.array(object = list_, dtype = int)\n",
    "#>> dtype : data-type, optional \n",
    "'''\n",
    "The desired data-type for the array.  \n",
    "If not given, then the type will be determined as the minimum type required to hold the objects in the sequence.\n",
    "'''"
   ]
  },
  {
   "cell_type": "code",
   "execution_count": 22,
   "id": "f6e8af13-f303-4016-9991-a792865c1273",
   "metadata": {},
   "outputs": [
    {
     "data": {
      "text/plain": [
       "dtype('int64')"
      ]
     },
     "execution_count": 22,
     "metadata": {},
     "output_type": "execute_result"
    }
   ],
   "source": [
    "array_list.dtype"
   ]
  },
  {
   "cell_type": "code",
   "execution_count": 24,
   "id": "51fa4e0e-8fef-40f4-bb26-0e0ffc983b19",
   "metadata": {},
   "outputs": [
    {
     "data": {
      "text/plain": [
       "[str, str, str, str, str]"
      ]
     },
     "execution_count": 24,
     "metadata": {},
     "output_type": "execute_result"
    }
   ],
   "source": [
    "[type(i) for i in list_]"
   ]
  },
  {
   "cell_type": "code",
   "execution_count": 25,
   "id": "ba6a0661-6155-44f5-b436-72d889d30580",
   "metadata": {},
   "outputs": [],
   "source": [
    "# Yes, there is huge difference in the data type of the elements present in variable array_list\n",
    "# All the elements now converted to 'int64' -> integer type.\n",
    "\n",
    "# But there has been no change in list_ elements."
   ]
  },
  {
   "cell_type": "code",
   "execution_count": 26,
   "id": "85f66a51-ff2f-4880-af97-b1be4de4b9e7",
   "metadata": {},
   "outputs": [],
   "source": [
    "import numpy as np\n",
    "num_list = [ [ 1 , 2 , 3 ] , [ 4 , 5 , 6 ] ]\n",
    "num_array = np.array(object = num_list)"
   ]
  },
  {
   "cell_type": "code",
   "execution_count": 27,
   "id": "f0baa783-499b-4b94-835e-c344143bb26c",
   "metadata": {},
   "outputs": [
    {
     "data": {
      "text/plain": [
       "(2, 3)"
      ]
     },
     "execution_count": 27,
     "metadata": {},
     "output_type": "execute_result"
    }
   ],
   "source": [
    "# Sol 4:\n",
    "# i) To find shape of num_array:\n",
    "num_array.shape \n",
    "# Here (2,3) -> 2 rows and 3 columns"
   ]
  },
  {
   "cell_type": "code",
   "execution_count": 29,
   "id": "51e0c1c4-3148-43d2-9a41-c19bbd13cb4c",
   "metadata": {},
   "outputs": [
    {
     "data": {
      "text/plain": [
       "6"
      ]
     },
     "execution_count": 29,
     "metadata": {},
     "output_type": "execute_result"
    }
   ],
   "source": [
    "# ii) To find size of num_array: (Size means count of elements inside an array)\n",
    "num_array.size\n",
    "# Here 6 represents total elements present in the given array."
   ]
  },
  {
   "cell_type": "code",
   "execution_count": 33,
   "id": "7543eefb-7813-4865-b363-a3951fb47f4b",
   "metadata": {},
   "outputs": [],
   "source": [
    "# Sol 5: using a numpy array creation function: Creating zeros.\n",
    "arr = np.zeros([3,3])"
   ]
  },
  {
   "cell_type": "code",
   "execution_count": 37,
   "id": "0ac555b9-6ec9-481f-aff5-8f43bceacdae",
   "metadata": {},
   "outputs": [
    {
     "data": {
      "text/plain": [
       "array([[0., 0., 0.],\n",
       "       [0., 0., 0.],\n",
       "       [0., 0., 0.]])"
      ]
     },
     "execution_count": 37,
     "metadata": {},
     "output_type": "execute_result"
    }
   ],
   "source": [
    "arr"
   ]
  },
  {
   "cell_type": "code",
   "execution_count": 36,
   "id": "b3e43dc3-5014-4786-a501-4539f018adbc",
   "metadata": {},
   "outputs": [
    {
     "name": "stdout",
     "output_type": "stream",
     "text": [
      "The size of the array is: 9 \n",
      "The shape of the array is: (3, 3)\n"
     ]
    }
   ],
   "source": [
    "print(f\"The size of the array is: {arr.size} \\nThe shape of the array is: {arr.shape}\")"
   ]
  },
  {
   "cell_type": "code",
   "execution_count": 47,
   "id": "2b2b22b5-ca00-45fb-b9ef-ceb941d9f04e",
   "metadata": {},
   "outputs": [
    {
     "data": {
      "text/plain": [
       "array([[1., 0., 0., 0., 0.],\n",
       "       [0., 1., 0., 0., 0.],\n",
       "       [0., 0., 1., 0., 0.],\n",
       "       [0., 0., 0., 1., 0.],\n",
       "       [0., 0., 0., 0., 1.]])"
      ]
     },
     "execution_count": 47,
     "metadata": {},
     "output_type": "execute_result"
    }
   ],
   "source": [
    "# Sol 6: Creating identity matrix using numpy function.\n",
    "arr1 = np.eye(5,5)\n",
    "arr1"
   ]
  },
  {
   "cell_type": "code",
   "execution_count": null,
   "id": "aabd1cf4-9264-4de7-9738-c87550de102c",
   "metadata": {},
   "outputs": [],
   "source": [
    "# An identity matrix is a matrix containing 1 diagonally and other elements will be 0."
   ]
  }
 ],
 "metadata": {
  "kernelspec": {
   "display_name": "Python 3 (ipykernel)",
   "language": "python",
   "name": "python3"
  },
  "language_info": {
   "codemirror_mode": {
    "name": "ipython",
    "version": 3
   },
   "file_extension": ".py",
   "mimetype": "text/x-python",
   "name": "python",
   "nbconvert_exporter": "python",
   "pygments_lexer": "ipython3",
   "version": "3.10.8"
  }
 },
 "nbformat": 4,
 "nbformat_minor": 5
}
