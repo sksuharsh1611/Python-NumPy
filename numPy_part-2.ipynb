{
 "cells": [
  {
   "cell_type": "markdown",
   "id": "a3585686-11ab-461c-8e6e-689ed75d85e6",
   "metadata": {},
   "source": [
    "# Numpy: Array-manipulation:"
   ]
  },
  {
   "cell_type": "code",
   "execution_count": 2,
   "id": "4c0ed9da-ed1a-4920-9c1f-225ed75ebb63",
   "metadata": {},
   "outputs": [],
   "source": [
    "import numpy as np\n",
    "#Numpy was created mainly for performing mathematical operations"
   ]
  },
  {
   "cell_type": "code",
   "execution_count": 3,
   "id": "32afb7e1-6c6d-459d-a3e3-32c045f5368f",
   "metadata": {},
   "outputs": [],
   "source": [
    "arr = np.random.randint(1,10,[3,4])"
   ]
  },
  {
   "cell_type": "code",
   "execution_count": 4,
   "id": "9a63b28b-a93a-41b1-9ca8-9d22fcd3ff73",
   "metadata": {},
   "outputs": [
    {
     "data": {
      "text/plain": [
       "array([[1, 2, 8, 1],\n",
       "       [8, 8, 6, 8],\n",
       "       [3, 6, 7, 9]])"
      ]
     },
     "execution_count": 4,
     "metadata": {},
     "output_type": "execute_result"
    }
   ],
   "source": [
    "arr"
   ]
  },
  {
   "cell_type": "code",
   "execution_count": 5,
   "id": "33a72121-c9a1-49f1-9da3-2480f120097a",
   "metadata": {},
   "outputs": [
    {
     "data": {
      "text/plain": [
       "array([[1, 2],\n",
       "       [8, 1],\n",
       "       [8, 8],\n",
       "       [6, 8],\n",
       "       [3, 6],\n",
       "       [7, 9]])"
      ]
     },
     "execution_count": 5,
     "metadata": {},
     "output_type": "execute_result"
    }
   ],
   "source": [
    "# Changing shape of array:\n",
    "arr.reshape(6,2)"
   ]
  },
  {
   "cell_type": "code",
   "execution_count": 6,
   "id": "bf84f448-47a3-4ba2-b244-b42bbd77f0c4",
   "metadata": {},
   "outputs": [
    {
     "data": {
      "text/plain": [
       "array([[1, 2, 8, 1, 8, 8],\n",
       "       [6, 8, 3, 6, 7, 9]])"
      ]
     },
     "execution_count": 6,
     "metadata": {},
     "output_type": "execute_result"
    }
   ],
   "source": [
    "arr.reshape(2,6)"
   ]
  },
  {
   "cell_type": "code",
   "execution_count": 7,
   "id": "5390f0b7-3e01-45ae-8fff-e396c2f0f0f9",
   "metadata": {},
   "outputs": [
    {
     "ename": "ValueError",
     "evalue": "cannot reshape array of size 12 into shape (2,7)",
     "output_type": "error",
     "traceback": [
      "\u001b[0;31m---------------------------------------------------------------------------\u001b[0m",
      "\u001b[0;31mValueError\u001b[0m                                Traceback (most recent call last)",
      "Cell \u001b[0;32mIn[7], line 1\u001b[0m\n\u001b[0;32m----> 1\u001b[0m \u001b[43marr\u001b[49m\u001b[38;5;241;43m.\u001b[39;49m\u001b[43mreshape\u001b[49m\u001b[43m(\u001b[49m\u001b[38;5;241;43m2\u001b[39;49m\u001b[43m,\u001b[49m\u001b[38;5;241;43m7\u001b[39;49m\u001b[43m)\u001b[49m\n",
      "\u001b[0;31mValueError\u001b[0m: cannot reshape array of size 12 into shape (2,7)"
     ]
    }
   ],
   "source": [
    "arr.reshape(2,7)"
   ]
  },
  {
   "cell_type": "code",
   "execution_count": 8,
   "id": "21c761ec-d0d5-4fd8-97bf-a6816b6ecbfa",
   "metadata": {},
   "outputs": [
    {
     "data": {
      "text/plain": [
       "array([[1, 2, 8, 1, 8, 8],\n",
       "       [6, 8, 3, 6, 7, 9]])"
      ]
     },
     "execution_count": 8,
     "metadata": {},
     "output_type": "execute_result"
    }
   ],
   "source": [
    "arr.reshape(2,-212)"
   ]
  },
  {
   "cell_type": "code",
   "execution_count": 9,
   "id": "c6a7549e-af90-4032-b597-46b8d34687d2",
   "metadata": {},
   "outputs": [
    {
     "data": {
      "text/plain": [
       "array([[1, 8, 3],\n",
       "       [2, 8, 6],\n",
       "       [8, 6, 7],\n",
       "       [1, 8, 9]])"
      ]
     },
     "execution_count": 9,
     "metadata": {},
     "output_type": "execute_result"
    }
   ],
   "source": [
    "# Transpose of array:\n",
    "arr.T"
   ]
  },
  {
   "cell_type": "code",
   "execution_count": 10,
   "id": "5c80f584-deb6-4087-913c-86082771931b",
   "metadata": {},
   "outputs": [
    {
     "data": {
      "text/plain": [
       "array([[1, 2, 8, 1],\n",
       "       [8, 8, 6, 8],\n",
       "       [3, 6, 7, 9]])"
      ]
     },
     "execution_count": 10,
     "metadata": {},
     "output_type": "execute_result"
    }
   ],
   "source": [
    "arr"
   ]
  },
  {
   "cell_type": "code",
   "execution_count": 11,
   "id": "a9969fcb-2c35-447f-98e4-a61a5b6e2846",
   "metadata": {},
   "outputs": [
    {
     "data": {
      "text/plain": [
       "array([1, 2, 8, 1, 8, 8, 6, 8, 3, 6, 7, 9])"
      ]
     },
     "execution_count": 11,
     "metadata": {},
     "output_type": "execute_result"
    }
   ],
   "source": [
    "# To convert into 1-D linear array:\n",
    "arr.flatten()"
   ]
  },
  {
   "cell_type": "code",
   "execution_count": 12,
   "id": "61bca9b1-1cca-4248-b6f7-40473ab54cdd",
   "metadata": {},
   "outputs": [],
   "source": [
    "arr1 = np.array([1,2,3,3,4])"
   ]
  },
  {
   "cell_type": "code",
   "execution_count": 13,
   "id": "43b8eca5-9ea4-46c0-88e7-7300fe370463",
   "metadata": {},
   "outputs": [
    {
     "data": {
      "text/plain": [
       "1"
      ]
     },
     "execution_count": 13,
     "metadata": {},
     "output_type": "execute_result"
    }
   ],
   "source": [
    "arr1.ndim"
   ]
  },
  {
   "cell_type": "code",
   "execution_count": 14,
   "id": "017495d2-10f4-477b-8b62-9e317be8d600",
   "metadata": {},
   "outputs": [
    {
     "data": {
      "text/plain": [
       "array([[1],\n",
       "       [2],\n",
       "       [3],\n",
       "       [3],\n",
       "       [4]])"
      ]
     },
     "execution_count": 14,
     "metadata": {},
     "output_type": "execute_result"
    }
   ],
   "source": [
    "# To convert 1-D to 2D array  (axis=0 ->row & axis=1 ->column)\n",
    "np.expand_dims(arr1, axis=1)"
   ]
  },
  {
   "cell_type": "code",
   "execution_count": 15,
   "id": "83b65d53-144d-411d-a4df-2a77f43c8ac5",
   "metadata": {},
   "outputs": [
    {
     "data": {
      "text/plain": [
       "array([[1, 2, 8, 1],\n",
       "       [8, 8, 6, 8],\n",
       "       [3, 6, 7, 9]])"
      ]
     },
     "execution_count": 15,
     "metadata": {},
     "output_type": "execute_result"
    }
   ],
   "source": [
    "arr"
   ]
  },
  {
   "cell_type": "code",
   "execution_count": 17,
   "id": "a2ef7b65-e934-4860-8397-17c40c30fded",
   "metadata": {},
   "outputs": [],
   "source": [
    "data = np.array([[1],[2],[3]])"
   ]
  },
  {
   "cell_type": "code",
   "execution_count": 18,
   "id": "5eb1b95f-7724-4472-8384-4ae359ab5c6d",
   "metadata": {},
   "outputs": [
    {
     "data": {
      "text/plain": [
       "array([[1],\n",
       "       [2],\n",
       "       [3]])"
      ]
     },
     "execution_count": 18,
     "metadata": {},
     "output_type": "execute_result"
    }
   ],
   "source": [
    "data"
   ]
  },
  {
   "cell_type": "code",
   "execution_count": 19,
   "id": "1531b82c-bb1a-44f3-bf00-3e9a7d3eb098",
   "metadata": {},
   "outputs": [
    {
     "data": {
      "text/plain": [
       "array([1, 2, 3])"
      ]
     },
     "execution_count": 19,
     "metadata": {},
     "output_type": "execute_result"
    }
   ],
   "source": [
    "# Convert single element into 1-D linear array\n",
    "np.squeeze(data)"
   ]
  },
  {
   "cell_type": "code",
   "execution_count": 20,
   "id": "e38e3a2c-da97-4612-889d-2fc13f948540",
   "metadata": {},
   "outputs": [
    {
     "data": {
      "text/plain": [
       "array([1, 2, 3, 3, 4])"
      ]
     },
     "execution_count": 20,
     "metadata": {},
     "output_type": "execute_result"
    }
   ],
   "source": [
    "arr1"
   ]
  },
  {
   "cell_type": "code",
   "execution_count": 21,
   "id": "56df497d-fe3c-4938-9ea6-faa1d24836a7",
   "metadata": {},
   "outputs": [
    {
     "data": {
      "text/plain": [
       "array([1, 1, 1, 2, 2, 2, 3, 3, 3, 3, 3, 3, 4, 4, 4])"
      ]
     },
     "execution_count": 21,
     "metadata": {},
     "output_type": "execute_result"
    }
   ],
   "source": [
    "# To repeat all elements with given no. of times\n",
    "np.repeat(arr1,3)"
   ]
  },
  {
   "cell_type": "code",
   "execution_count": 22,
   "id": "a546d230-35eb-4513-8fa4-7bca2d54a770",
   "metadata": {},
   "outputs": [
    {
     "data": {
      "text/plain": [
       "array([3, 4, 1, 2, 3])"
      ]
     },
     "execution_count": 22,
     "metadata": {},
     "output_type": "execute_result"
    }
   ],
   "source": [
    "# Shifting all elements by n places \n",
    "np.roll(arr1, 2)"
   ]
  },
  {
   "cell_type": "code",
   "execution_count": 23,
   "id": "7b259d95-4e58-4bff-a7c9-d73e0693c174",
   "metadata": {},
   "outputs": [
    {
     "data": {
      "text/plain": [
       "array([3, 3, 4, 1, 2])"
      ]
     },
     "execution_count": 23,
     "metadata": {},
     "output_type": "execute_result"
    }
   ],
   "source": [
    "np.roll(arr1,3)"
   ]
  },
  {
   "cell_type": "code",
   "execution_count": 24,
   "id": "bcb567ca-6978-42c4-9dec-05e556ff2fd0",
   "metadata": {},
   "outputs": [
    {
     "data": {
      "text/plain": [
       "array([[1, 0, 0, 0, 0],\n",
       "       [0, 2, 0, 0, 0],\n",
       "       [0, 0, 3, 0, 0],\n",
       "       [0, 0, 0, 3, 0],\n",
       "       [0, 0, 0, 0, 4]])"
      ]
     },
     "execution_count": 24,
     "metadata": {},
     "output_type": "execute_result"
    }
   ],
   "source": [
    "# To keep elements in diagonal position and fill rest with 0s\n",
    "#>> convert 1-D into 2-D\n",
    "np.diag(arr1)"
   ]
  },
  {
   "cell_type": "code",
   "execution_count": null,
   "id": "b06dcc47-e235-466c-ac8b-354b26936b15",
   "metadata": {},
   "outputs": [],
   "source": []
  },
  {
   "cell_type": "markdown",
   "id": "aa9d8a7d-5c6c-4877-a4c2-1c8e2c3ceea1",
   "metadata": {},
   "source": [
    "# Numpy -> Binary Operators\n",
    "+,-,/,*"
   ]
  },
  {
   "cell_type": "code",
   "execution_count": 25,
   "id": "5826aeff-6125-4cc5-8f0d-88db4752de8c",
   "metadata": {},
   "outputs": [],
   "source": [
    "arr1 = np.random.randint(1,10,[3,4])"
   ]
  },
  {
   "cell_type": "code",
   "execution_count": 26,
   "id": "f44edc7f-f92f-46d3-93a8-2762f69ba6ff",
   "metadata": {},
   "outputs": [],
   "source": [
    "arr2 = np.random.randint(1,10,[3,4])"
   ]
  },
  {
   "cell_type": "code",
   "execution_count": 27,
   "id": "0e91f754-8813-4e2f-a691-8f021e6b861c",
   "metadata": {},
   "outputs": [
    {
     "data": {
      "text/plain": [
       "array([[9, 2, 1, 9],\n",
       "       [8, 9, 1, 3],\n",
       "       [2, 8, 3, 4]])"
      ]
     },
     "execution_count": 27,
     "metadata": {},
     "output_type": "execute_result"
    }
   ],
   "source": [
    "arr1"
   ]
  },
  {
   "cell_type": "code",
   "execution_count": 28,
   "id": "17381541-4100-438c-95de-d8d6cd923ce6",
   "metadata": {},
   "outputs": [
    {
     "data": {
      "text/plain": [
       "array([[3, 1, 1, 5],\n",
       "       [7, 9, 3, 9],\n",
       "       [8, 8, 1, 7]])"
      ]
     },
     "execution_count": 28,
     "metadata": {},
     "output_type": "execute_result"
    }
   ],
   "source": [
    "arr2"
   ]
  },
  {
   "cell_type": "code",
   "execution_count": 29,
   "id": "3224126b-728e-41a8-8fe5-99039f3be24f",
   "metadata": {},
   "outputs": [
    {
     "data": {
      "text/plain": [
       "array([[12,  3,  2, 14],\n",
       "       [15, 18,  4, 12],\n",
       "       [10, 16,  4, 11]])"
      ]
     },
     "execution_count": 29,
     "metadata": {},
     "output_type": "execute_result"
    }
   ],
   "source": [
    "# Index wise addition:\n",
    "arr1 + arr2"
   ]
  },
  {
   "cell_type": "code",
   "execution_count": 30,
   "id": "12c2fdb1-f642-4c4d-8592-6480ae69aae9",
   "metadata": {},
   "outputs": [
    {
     "data": {
      "text/plain": [
       "array([[27,  2,  1, 45],\n",
       "       [56, 81,  3, 27],\n",
       "       [16, 64,  3, 28]])"
      ]
     },
     "execution_count": 30,
     "metadata": {},
     "output_type": "execute_result"
    }
   ],
   "source": [
    "# Element wise- index wise multiplication\n",
    "arr1 * arr2"
   ]
  },
  {
   "cell_type": "code",
   "execution_count": 31,
   "id": "fcca19aa-135d-4e99-bb02-b968dbea6417",
   "metadata": {},
   "outputs": [
    {
     "data": {
      "text/plain": [
       "array([[3.        , 2.        , 1.        , 1.8       ],\n",
       "       [1.14285714, 1.        , 0.33333333, 0.33333333],\n",
       "       [0.25      , 1.        , 3.        , 0.57142857]])"
      ]
     },
     "execution_count": 31,
     "metadata": {},
     "output_type": "execute_result"
    }
   ],
   "source": [
    "# Division\n",
    "arr1 / arr2"
   ]
  },
  {
   "cell_type": "code",
   "execution_count": 32,
   "id": "412d1d28-f96f-4b60-ba76-230a07ede8dc",
   "metadata": {},
   "outputs": [
    {
     "data": {
      "text/plain": [
       "array([[3.        , 2.        , 1.        , 1.8       ],\n",
       "       [1.14285714, 1.        , 0.33333333, 0.33333333],\n",
       "       [0.25      , 1.        , 3.        , 0.57142857]])"
      ]
     },
     "execution_count": 32,
     "metadata": {},
     "output_type": "execute_result"
    }
   ],
   "source": [
    "# Subtraction\n",
    "arr1 / arr2"
   ]
  },
  {
   "cell_type": "code",
   "execution_count": 33,
   "id": "632a195c-6b6b-4af7-92c5-e52e54bc0987",
   "metadata": {},
   "outputs": [
    {
     "data": {
      "text/plain": [
       "array([[0, 0, 0, 4],\n",
       "       [1, 0, 1, 3],\n",
       "       [2, 0, 0, 4]])"
      ]
     },
     "execution_count": 33,
     "metadata": {},
     "output_type": "execute_result"
    }
   ],
   "source": [
    "# Remainder operation\n",
    "arr1 % arr2"
   ]
  },
  {
   "cell_type": "code",
   "execution_count": 34,
   "id": "9ca354a1-ac15-4c7d-97d5-943bd127449a",
   "metadata": {},
   "outputs": [
    {
     "data": {
      "text/plain": [
       "array([[      729,         2,         1,     59049],\n",
       "       [  2097152, 387420489,         1,     19683],\n",
       "       [      256,  16777216,         3,     16384]])"
      ]
     },
     "execution_count": 34,
     "metadata": {},
     "output_type": "execute_result"
    }
   ],
   "source": [
    "# Power calculation:\n",
    "arr1 ** arr2"
   ]
  },
  {
   "cell_type": "code",
   "execution_count": 35,
   "id": "257c56a1-754f-4b28-8d64-0facc5f7401e",
   "metadata": {},
   "outputs": [
    {
     "data": {
      "text/plain": [
       "array([[1, 0, 1, 1],\n",
       "       [0, 9, 1, 1],\n",
       "       [0, 8, 1, 4]])"
      ]
     },
     "execution_count": 35,
     "metadata": {},
     "output_type": "execute_result"
    }
   ],
   "source": [
    "# AND Operation\n",
    "arr1 & arr2"
   ]
  },
  {
   "cell_type": "code",
   "execution_count": 37,
   "id": "435cab25-f0c8-4448-b9ee-0bb7b7d4d103",
   "metadata": {},
   "outputs": [
    {
     "data": {
      "text/plain": [
       "array([[11,  3,  1, 13],\n",
       "       [15,  9,  3, 11],\n",
       "       [10,  8,  3,  7]])"
      ]
     },
     "execution_count": 37,
     "metadata": {},
     "output_type": "execute_result"
    }
   ],
   "source": [
    "# OR operation\n",
    "arr1 | arr2"
   ]
  },
  {
   "cell_type": "code",
   "execution_count": 36,
   "id": "9454b672-be46-43ca-b94d-f4bf6013f560",
   "metadata": {},
   "outputs": [
    {
     "data": {
      "text/plain": [
       "array([[-10,  -3,  -2, -10],\n",
       "       [ -9, -10,  -2,  -4],\n",
       "       [ -3,  -9,  -4,  -5]])"
      ]
     },
     "execution_count": 36,
     "metadata": {},
     "output_type": "execute_result"
    }
   ],
   "source": [
    "# Negate operation > convert all elements into -ve value\n",
    "~arr1"
   ]
  },
  {
   "cell_type": "code",
   "execution_count": 38,
   "id": "3d8eb5c8-3e16-4582-bd44-67fca1a940dc",
   "metadata": {},
   "outputs": [
    {
     "data": {
      "text/plain": [
       "array([[ True,  True, False,  True],\n",
       "       [ True, False, False, False],\n",
       "       [False, False,  True, False]])"
      ]
     },
     "execution_count": 38,
     "metadata": {},
     "output_type": "execute_result"
    }
   ],
   "source": [
    "# Greater than : match with corresponding elements\n",
    "arr1 > arr2"
   ]
  },
  {
   "cell_type": "code",
   "execution_count": 39,
   "id": "98406a0d-294b-4724-b71e-5ccc225b8f28",
   "metadata": {},
   "outputs": [
    {
     "data": {
      "text/plain": [
       "array([[False, False, False, False],\n",
       "       [False, False,  True,  True],\n",
       "       [ True, False, False,  True]])"
      ]
     },
     "execution_count": 39,
     "metadata": {},
     "output_type": "execute_result"
    }
   ],
   "source": [
    "# Less than : match with index of corresponding elements:\n",
    "arr1 < arr2"
   ]
  },
  {
   "cell_type": "markdown",
   "id": "d3df6aa7-1be7-4fe4-b861-07df1579db83",
   "metadata": {},
   "source": [
    "# Numpy --> String Functions"
   ]
  },
  {
   "cell_type": "code",
   "execution_count": 44,
   "id": "ebf9a7c8-dd76-4344-b26b-80fa2dd974a3",
   "metadata": {},
   "outputs": [],
   "source": [
    "arr = np.array(['suharsh','kumar']) #dtype : U7 equivalent to string"
   ]
  },
  {
   "cell_type": "code",
   "execution_count": 45,
   "id": "21522960-5a9a-43b6-ab20-7c085a877895",
   "metadata": {},
   "outputs": [
    {
     "data": {
      "text/plain": [
       "array(['SUHARSH', 'KUMAR'], dtype='<U7')"
      ]
     },
     "execution_count": 45,
     "metadata": {},
     "output_type": "execute_result"
    }
   ],
   "source": [
    "# Convert to upper case:\n",
    "np.char.upper(arr)"
   ]
  },
  {
   "cell_type": "code",
   "execution_count": 46,
   "id": "7fc6a7ec-1d4d-4e9b-bfd6-a0aef8a1fbee",
   "metadata": {},
   "outputs": [
    {
     "data": {
      "text/plain": [
       "array(['Suharsh', 'Kumar'], dtype='<U7')"
      ]
     },
     "execution_count": 46,
     "metadata": {},
     "output_type": "execute_result"
    }
   ],
   "source": [
    "# Convert to Title case:\n",
    "np.char.title(arr)"
   ]
  },
  {
   "cell_type": "code",
   "execution_count": 47,
   "id": "cfa798fa-d589-4cb5-93d4-a2c4d6da6805",
   "metadata": {},
   "outputs": [
    {
     "data": {
      "text/plain": [
       "array(['Suharsh', 'Kumar'], dtype='<U7')"
      ]
     },
     "execution_count": 47,
     "metadata": {},
     "output_type": "execute_result"
    }
   ],
   "source": [
    "# Convert to capitalize:\n",
    "np.char.capitalize(arr)"
   ]
  },
  {
   "cell_type": "markdown",
   "id": "4f73972d-6e02-42e0-bb7b-4ab3f3c76bcb",
   "metadata": {},
   "source": [
    "# Numpy --> Mathematical functions\n",
    "\n",
    "ex: sin, cos, tan, cosin, tangent"
   ]
  },
  {
   "cell_type": "code",
   "execution_count": 48,
   "id": "128b4b8c-e410-4602-a569-f4947276853b",
   "metadata": {},
   "outputs": [
    {
     "data": {
      "text/plain": [
       "array([[9, 2, 1, 9],\n",
       "       [8, 9, 1, 3],\n",
       "       [2, 8, 3, 4]])"
      ]
     },
     "execution_count": 48,
     "metadata": {},
     "output_type": "execute_result"
    }
   ],
   "source": [
    "arr1"
   ]
  },
  {
   "cell_type": "code",
   "execution_count": 49,
   "id": "a195eae2-330f-40ba-ab97-df5930e657eb",
   "metadata": {},
   "outputs": [
    {
     "data": {
      "text/plain": [
       "array([[ 0.41211849,  0.90929743,  0.84147098,  0.41211849],\n",
       "       [ 0.98935825,  0.41211849,  0.84147098,  0.14112001],\n",
       "       [ 0.90929743,  0.98935825,  0.14112001, -0.7568025 ]])"
      ]
     },
     "execution_count": 49,
     "metadata": {},
     "output_type": "execute_result"
    }
   ],
   "source": [
    "# To calculate sin of each element:\n",
    "np.sin(arr1)"
   ]
  },
  {
   "cell_type": "code",
   "execution_count": 50,
   "id": "a4de2234-4267-4247-9be6-bd9c5f35af31",
   "metadata": {},
   "outputs": [
    {
     "data": {
      "text/plain": [
       "array([[-0.91113026, -0.41614684,  0.54030231, -0.91113026],\n",
       "       [-0.14550003, -0.91113026,  0.54030231, -0.9899925 ],\n",
       "       [-0.41614684, -0.14550003, -0.9899925 , -0.65364362]])"
      ]
     },
     "execution_count": 50,
     "metadata": {},
     "output_type": "execute_result"
    }
   ],
   "source": [
    "# To calculate cos:\n",
    "np.cos(arr1)"
   ]
  },
  {
   "cell_type": "code",
   "execution_count": 51,
   "id": "d9c03652-25b8-4123-96da-7056da1ecc60",
   "metadata": {},
   "outputs": [
    {
     "data": {
      "text/plain": [
       "array([[-0.45231566, -2.18503986,  1.55740772, -0.45231566],\n",
       "       [-6.79971146, -0.45231566,  1.55740772, -0.14254654],\n",
       "       [-2.18503986, -6.79971146, -0.14254654,  1.15782128]])"
      ]
     },
     "execution_count": 51,
     "metadata": {},
     "output_type": "execute_result"
    }
   ],
   "source": [
    "# To calculate tan:\n",
    "np.tan(arr1)"
   ]
  },
  {
   "cell_type": "code",
   "execution_count": 53,
   "id": "14b74ebe-512a-4ab3-be78-a0e7977a1b51",
   "metadata": {},
   "outputs": [
    {
     "data": {
      "text/plain": [
       "array([[0.99999997, 0.96402758, 0.76159416, 0.99999997],\n",
       "       [0.99999977, 0.99999997, 0.76159416, 0.99505475],\n",
       "       [0.96402758, 0.99999977, 0.99505475, 0.9993293 ]])"
      ]
     },
     "execution_count": 53,
     "metadata": {},
     "output_type": "execute_result"
    }
   ],
   "source": [
    "# Calculate hyper-tangent\n",
    "np.tanh(arr1)"
   ]
  },
  {
   "cell_type": "code",
   "execution_count": 54,
   "id": "71d68ac2-d034-40a1-bcdf-6e654b605e31",
   "metadata": {},
   "outputs": [
    {
     "data": {
      "text/plain": [
       "array([[2.19722458, 0.69314718, 0.        , 2.19722458],\n",
       "       [2.07944154, 2.19722458, 0.        , 1.09861229],\n",
       "       [0.69314718, 2.07944154, 1.09861229, 1.38629436]])"
      ]
     },
     "execution_count": 54,
     "metadata": {},
     "output_type": "execute_result"
    }
   ],
   "source": [
    "# Calculate log:\n",
    "np.log(arr1)"
   ]
  },
  {
   "cell_type": "code",
   "execution_count": 55,
   "id": "e66771c4-de16-4fb2-8862-eda52a8da4f4",
   "metadata": {},
   "outputs": [
    {
     "data": {
      "text/plain": [
       "array([[8.10308393e+03, 7.38905610e+00, 2.71828183e+00, 8.10308393e+03],\n",
       "       [2.98095799e+03, 8.10308393e+03, 2.71828183e+00, 2.00855369e+01],\n",
       "       [7.38905610e+00, 2.98095799e+03, 2.00855369e+01, 5.45981500e+01]])"
      ]
     },
     "execution_count": 55,
     "metadata": {},
     "output_type": "execute_result"
    }
   ],
   "source": [
    "# Calculate exponent:\n",
    "np.exp(arr1)"
   ]
  },
  {
   "cell_type": "code",
   "execution_count": 56,
   "id": "c4f67635-307b-4a35-807f-506f634b6d24",
   "metadata": {},
   "outputs": [
    {
     "data": {
      "text/plain": [
       "array([[3.        , 1.41421356, 1.        , 3.        ],\n",
       "       [2.82842712, 3.        , 1.        , 1.73205081],\n",
       "       [1.41421356, 2.82842712, 1.73205081, 2.        ]])"
      ]
     },
     "execution_count": 56,
     "metadata": {},
     "output_type": "execute_result"
    }
   ],
   "source": [
    "# Calculate square root of each element:\n",
    "np.sqrt(arr1)"
   ]
  },
  {
   "cell_type": "code",
   "execution_count": 58,
   "id": "1e42ce04-9342-48d9-9655-b2a14e68708d",
   "metadata": {},
   "outputs": [
    {
     "data": {
      "text/plain": [
       "array([[81,  4,  1, 81],\n",
       "       [64, 81,  1,  9],\n",
       "       [ 4, 64,  9, 16]])"
      ]
     },
     "execution_count": 58,
     "metadata": {},
     "output_type": "execute_result"
    }
   ],
   "source": [
    "# To calculate power of all elements:\n",
    "np.power(arr1,2)"
   ]
  },
  {
   "cell_type": "code",
   "execution_count": 59,
   "id": "e2e3f025-dd20-40a1-9668-5b51aa8080dd",
   "metadata": {},
   "outputs": [
    {
     "data": {
      "text/plain": [
       "4.916666666666667"
      ]
     },
     "execution_count": 59,
     "metadata": {},
     "output_type": "execute_result"
    }
   ],
   "source": [
    "# Calculate mean:\n",
    "np.mean(arr1)"
   ]
  },
  {
   "cell_type": "code",
   "execution_count": 60,
   "id": "a05394df-0ab8-4eac-805f-0854ae6375e7",
   "metadata": {},
   "outputs": [
    {
     "data": {
      "text/plain": [
       "3.5"
      ]
     },
     "execution_count": 60,
     "metadata": {},
     "output_type": "execute_result"
    }
   ],
   "source": [
    "# Calculate medain:\n",
    "np.median(arr1)"
   ]
  },
  {
   "cell_type": "code",
   "execution_count": 61,
   "id": "0defc4cb-8ce4-4ad2-b428-84ec702a898c",
   "metadata": {},
   "outputs": [
    {
     "data": {
      "text/plain": [
       "3.226410113767656"
      ]
     },
     "execution_count": 61,
     "metadata": {},
     "output_type": "execute_result"
    }
   ],
   "source": [
    "# Calculate standard deviation:\n",
    "np.std(arr1)"
   ]
  },
  {
   "cell_type": "code",
   "execution_count": 62,
   "id": "ebf96efa-13cf-485c-ae1d-3813a772d3d3",
   "metadata": {},
   "outputs": [
    {
     "data": {
      "text/plain": [
       "10.409722222222221"
      ]
     },
     "execution_count": 62,
     "metadata": {},
     "output_type": "execute_result"
    }
   ],
   "source": [
    "# Calculate variance:\n",
    "np.var(arr1)"
   ]
  },
  {
   "cell_type": "code",
   "execution_count": 63,
   "id": "2e3b8187-8218-47bb-8b26-10a052e257cc",
   "metadata": {},
   "outputs": [
    {
     "data": {
      "text/plain": [
       "1"
      ]
     },
     "execution_count": 63,
     "metadata": {},
     "output_type": "execute_result"
    }
   ],
   "source": [
    "# Fetch min element:\n",
    "np.min(arr1)"
   ]
  },
  {
   "cell_type": "code",
   "execution_count": 64,
   "id": "bc41673d-f7b4-40c3-9749-b8706597bd2d",
   "metadata": {},
   "outputs": [
    {
     "data": {
      "text/plain": [
       "9"
      ]
     },
     "execution_count": 64,
     "metadata": {},
     "output_type": "execute_result"
    }
   ],
   "source": [
    "# Fetch max element:\n",
    "np.max(arr1)"
   ]
  }
 ],
 "metadata": {
  "kernelspec": {
   "display_name": "Python 3 (ipykernel)",
   "language": "python",
   "name": "python3"
  },
  "language_info": {
   "codemirror_mode": {
    "name": "ipython",
    "version": 3
   },
   "file_extension": ".py",
   "mimetype": "text/x-python",
   "name": "python",
   "nbconvert_exporter": "python",
   "pygments_lexer": "ipython3",
   "version": "3.10.8"
  }
 },
 "nbformat": 4,
 "nbformat_minor": 5
}
