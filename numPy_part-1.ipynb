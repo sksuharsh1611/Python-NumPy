{
 "cells": [
  {
   "cell_type": "markdown",
   "id": "f3da8295-a8e2-40fd-800f-f64b1894e821",
   "metadata": {},
   "source": [
    "# Python- NumPy"
   ]
  },
  {
   "cell_type": "code",
   "execution_count": 1,
   "id": "5d73965b-40d4-46b0-98f7-37da9be9c201",
   "metadata": {},
   "outputs": [],
   "source": [
    "import numpy as np"
   ]
  },
  {
   "cell_type": "code",
   "execution_count": 2,
   "id": "92b37941-b99d-49fb-a763-92c176ed64d1",
   "metadata": {},
   "outputs": [],
   "source": [
    "l = [1,2,3,4]"
   ]
  },
  {
   "cell_type": "code",
   "execution_count": 3,
   "id": "1d28fb12-6a18-4857-82b2-e271d12d7979",
   "metadata": {},
   "outputs": [
    {
     "data": {
      "text/plain": [
       "array([1, 2, 3, 4])"
      ]
     },
     "execution_count": 3,
     "metadata": {},
     "output_type": "execute_result"
    }
   ],
   "source": [
    "np.array(l)"
   ]
  },
  {
   "cell_type": "code",
   "execution_count": 4,
   "id": "4662e931-4a9c-4c13-b6ee-81efd2d0d188",
   "metadata": {},
   "outputs": [],
   "source": [
    "# array is a super-class in numpy\n",
    "ar = np.array(l)"
   ]
  },
  {
   "cell_type": "code",
   "execution_count": 5,
   "id": "6f452e0d-0dd5-40e1-9f82-f63d4c31d67c",
   "metadata": {},
   "outputs": [
    {
     "data": {
      "text/plain": [
       "numpy.ndarray"
      ]
     },
     "execution_count": 5,
     "metadata": {},
     "output_type": "execute_result"
    }
   ],
   "source": [
    "type(ar)"
   ]
  },
  {
   "cell_type": "code",
   "execution_count": 7,
   "id": "cb7d7b30-582f-4908-89bd-d7dcd11edc17",
   "metadata": {},
   "outputs": [
    {
     "data": {
      "text/plain": [
       "array([[1, 2],\n",
       "       [3, 4]])"
      ]
     },
     "execution_count": 7,
     "metadata": {},
     "output_type": "execute_result"
    }
   ],
   "source": [
    "# type 'ndarray' >represents n-dimensional array data\n",
    "np.array([[1,2],[3,4]]) #2-D array"
   ]
  },
  {
   "cell_type": "code",
   "execution_count": 8,
   "id": "fc97b048-5504-4a06-8679-a0b73b6324cc",
   "metadata": {},
   "outputs": [],
   "source": [
    "# 2-d data can be represnted in 2-D co-ordinates"
   ]
  },
  {
   "cell_type": "code",
   "execution_count": 9,
   "id": "379b7869-8e8f-4f2f-a819-647d7de284f3",
   "metadata": {},
   "outputs": [],
   "source": [
    "# Maximum 3-D data can be represented:\n"
   ]
  },
  {
   "cell_type": "code",
   "execution_count": 10,
   "id": "7434cb24-dc5a-4b81-9293-d89e0a0b22f9",
   "metadata": {},
   "outputs": [
    {
     "data": {
      "text/plain": [
       "array([1, 2, 3, 4])"
      ]
     },
     "execution_count": 10,
     "metadata": {},
     "output_type": "execute_result"
    }
   ],
   "source": [
    "# COnverts into array\n",
    "np.asarray(l)"
   ]
  },
  {
   "cell_type": "code",
   "execution_count": 11,
   "id": "184a9687-8f74-40b0-bc2f-7887835228da",
   "metadata": {},
   "outputs": [],
   "source": [
    "a=[2,3,4]"
   ]
  },
  {
   "cell_type": "code",
   "execution_count": 12,
   "id": "44d021b5-c903-48ee-94a7-73bceb9061e9",
   "metadata": {},
   "outputs": [
    {
     "data": {
      "text/plain": [
       "array([2, 3, 4])"
      ]
     },
     "execution_count": 12,
     "metadata": {},
     "output_type": "execute_result"
    }
   ],
   "source": [
    "# Convert into array:\n",
    "np.asanyarray(a)"
   ]
  },
  {
   "cell_type": "code",
   "execution_count": 13,
   "id": "8b9e9ed2-5e18-4eb0-a767-43d7f88d8b8f",
   "metadata": {},
   "outputs": [],
   "source": [
    "# Matrix is by-default 2-D array {Sub-set of array}\n",
    "b= np.matrix(l)"
   ]
  },
  {
   "cell_type": "code",
   "execution_count": 14,
   "id": "2283c343-29cb-4b50-b1f9-a8595dcdccb3",
   "metadata": {},
   "outputs": [
    {
     "data": {
      "text/plain": [
       "matrix([[1, 2, 3, 4]])"
      ]
     },
     "execution_count": 14,
     "metadata": {},
     "output_type": "execute_result"
    }
   ],
   "source": [
    "b"
   ]
  },
  {
   "cell_type": "code",
   "execution_count": 16,
   "id": "b1d326c5-b4f6-4e93-8bad-7f39323a2364",
   "metadata": {},
   "outputs": [
    {
     "data": {
      "text/plain": [
       "matrix([[1, 2, 3, 4]])"
      ]
     },
     "execution_count": 16,
     "metadata": {},
     "output_type": "execute_result"
    }
   ],
   "source": [
    "np.asanyarray(b)\n",
    "# Unable to convert to array: matrix can't be converted into array using asannyarray"
   ]
  },
  {
   "cell_type": "markdown",
   "id": "38d9fd70-cc8a-4390-8a08-bcf7c523db90",
   "metadata": {},
   "source": [
    "# Re-assignment of data inside array"
   ]
  },
  {
   "cell_type": "code",
   "execution_count": 17,
   "id": "c32c6edf-cf8f-4bf8-9438-6bb6e7015b72",
   "metadata": {},
   "outputs": [],
   "source": [
    "a=np.array(l)"
   ]
  },
  {
   "cell_type": "code",
   "execution_count": 18,
   "id": "0b1e76b7-f137-4e2a-9574-bfbce9bdd84f",
   "metadata": {},
   "outputs": [
    {
     "data": {
      "text/plain": [
       "array([1, 2, 3, 4])"
      ]
     },
     "execution_count": 18,
     "metadata": {},
     "output_type": "execute_result"
    }
   ],
   "source": [
    "a"
   ]
  },
  {
   "cell_type": "code",
   "execution_count": 19,
   "id": "64a4907e-c3bb-44bd-ae92-29db64d92b3b",
   "metadata": {},
   "outputs": [],
   "source": [
    "c = a"
   ]
  },
  {
   "cell_type": "code",
   "execution_count": 20,
   "id": "22e2c12f-0882-428f-bcd3-3f6ec7b8aee3",
   "metadata": {},
   "outputs": [
    {
     "data": {
      "text/plain": [
       "array([1, 2, 3, 4])"
      ]
     },
     "execution_count": 20,
     "metadata": {},
     "output_type": "execute_result"
    }
   ],
   "source": [
    "c"
   ]
  },
  {
   "cell_type": "code",
   "execution_count": 21,
   "id": "625ce3cb-64ec-4b76-9413-246cc009c724",
   "metadata": {},
   "outputs": [
    {
     "data": {
      "text/plain": [
       "array([1, 2, 3, 4])"
      ]
     },
     "execution_count": 21,
     "metadata": {},
     "output_type": "execute_result"
    }
   ],
   "source": [
    "a"
   ]
  },
  {
   "cell_type": "code",
   "execution_count": 22,
   "id": "fe94a490-b145-4e5a-acb2-939fc03b59aa",
   "metadata": {},
   "outputs": [
    {
     "data": {
      "text/plain": [
       "1"
      ]
     },
     "execution_count": 22,
     "metadata": {},
     "output_type": "execute_result"
    }
   ],
   "source": [
    "c[0]"
   ]
  },
  {
   "cell_type": "code",
   "execution_count": 23,
   "id": "979ce720-25e1-45e6-81cc-d14ff1b79e98",
   "metadata": {},
   "outputs": [],
   "source": [
    "c[0] = 100"
   ]
  },
  {
   "cell_type": "code",
   "execution_count": 24,
   "id": "f3e41fa3-90a1-41a3-b1e4-725b9dc4bc3f",
   "metadata": {},
   "outputs": [
    {
     "data": {
      "text/plain": [
       "array([100,   2,   3,   4])"
      ]
     },
     "execution_count": 24,
     "metadata": {},
     "output_type": "execute_result"
    }
   ],
   "source": [
    "c"
   ]
  },
  {
   "cell_type": "code",
   "execution_count": 25,
   "id": "182eb5cc-06d5-4ce7-8355-edca0ee2de76",
   "metadata": {},
   "outputs": [
    {
     "data": {
      "text/plain": [
       "array([100,   2,   3,   4])"
      ]
     },
     "execution_count": 25,
     "metadata": {},
     "output_type": "execute_result"
    }
   ],
   "source": [
    "a"
   ]
  },
  {
   "cell_type": "code",
   "execution_count": 26,
   "id": "807e6455-fd1b-407e-b02e-b02d8413562e",
   "metadata": {},
   "outputs": [],
   "source": [
    "# c -> used as reference \n",
    "# 'c' is Swalllow copy of 'a'\n"
   ]
  },
  {
   "cell_type": "markdown",
   "id": "cbb6589a-60ef-42a1-ac0b-8475912fcb81",
   "metadata": {},
   "source": [
    "#Copy >> copies array and allocate at new location\n",
    "# 'd' is Deep copy of 'a'"
   ]
  },
  {
   "cell_type": "code",
   "execution_count": 27,
   "id": "5df25890-e135-4ef0-bd3e-8a843706721b",
   "metadata": {},
   "outputs": [],
   "source": [
    "d = np.copy(a)"
   ]
  },
  {
   "cell_type": "code",
   "execution_count": 28,
   "id": "57b244b3-e5da-419f-9331-c643a048a49c",
   "metadata": {},
   "outputs": [
    {
     "data": {
      "text/plain": [
       "array([100,   2,   3,   4])"
      ]
     },
     "execution_count": 28,
     "metadata": {},
     "output_type": "execute_result"
    }
   ],
   "source": [
    "d"
   ]
  },
  {
   "cell_type": "code",
   "execution_count": 29,
   "id": "cb8e2097-f376-4f86-8e41-fa8499763109",
   "metadata": {},
   "outputs": [
    {
     "data": {
      "text/plain": [
       "array([100,   2,   3,   4])"
      ]
     },
     "execution_count": 29,
     "metadata": {},
     "output_type": "execute_result"
    }
   ],
   "source": [
    "a"
   ]
  },
  {
   "cell_type": "code",
   "execution_count": 30,
   "id": "379d936b-8c54-4916-a8cd-c5848e45b9f8",
   "metadata": {},
   "outputs": [],
   "source": [
    "a[1]= 400"
   ]
  },
  {
   "cell_type": "code",
   "execution_count": 31,
   "id": "fdbe7c2c-6913-4b08-9b14-4e403e09b950",
   "metadata": {},
   "outputs": [
    {
     "data": {
      "text/plain": [
       "array([100, 400,   3,   4])"
      ]
     },
     "execution_count": 31,
     "metadata": {},
     "output_type": "execute_result"
    }
   ],
   "source": [
    "a"
   ]
  },
  {
   "cell_type": "code",
   "execution_count": 33,
   "id": "8a87452d-88d4-4971-ac25-4d5cc2d5d96b",
   "metadata": {},
   "outputs": [
    {
     "data": {
      "text/plain": [
       "array([100,   2,   3,   4])"
      ]
     },
     "execution_count": 33,
     "metadata": {},
     "output_type": "execute_result"
    }
   ],
   "source": [
    "d"
   ]
  },
  {
   "cell_type": "markdown",
   "id": "182f52cf-08ba-44f2-a4f0-9a8c41ae527f",
   "metadata": {},
   "source": [
    "# Functions to generate different Arrays in numPy:"
   ]
  },
  {
   "cell_type": "code",
   "execution_count": 34,
   "id": "34fa3bbb-a283-4c66-ae2d-0f8ad0ef7c75",
   "metadata": {},
   "outputs": [
    {
     "data": {
      "text/plain": [
       "array([[ True, False, False],\n",
       "       [False,  True, False],\n",
       "       [False, False,  True]])"
      ]
     },
     "execution_count": 34,
     "metadata": {},
     "output_type": "execute_result"
    }
   ],
   "source": [
    "np.fromfunction(lambda i,j: i==j,(3,3))"
   ]
  },
  {
   "cell_type": "code",
   "execution_count": 35,
   "id": "556e5eba-37a5-44d7-8c98-0983bd03dd56",
   "metadata": {},
   "outputs": [
    {
     "data": {
      "text/plain": [
       "array([[0., 0., 0.],\n",
       "       [0., 1., 2.],\n",
       "       [0., 2., 4.]])"
      ]
     },
     "execution_count": 35,
     "metadata": {},
     "output_type": "execute_result"
    }
   ],
   "source": [
    "np.fromfunction(lambda i,j: i*j,(3,3))"
   ]
  },
  {
   "cell_type": "code",
   "execution_count": null,
   "id": "1500b096-462c-4439-b49c-b1fc3edda31c",
   "metadata": {},
   "outputs": [],
   "source": [
    "# Using iterables>>"
   ]
  },
  {
   "cell_type": "code",
   "execution_count": 37,
   "id": "e0c2ef20-d063-457d-80ef-7a27fe751cf3",
   "metadata": {},
   "outputs": [],
   "source": [
    "iterable = (i*i for i in range(5))"
   ]
  },
  {
   "cell_type": "code",
   "execution_count": 38,
   "id": "af70ee29-18f7-4baf-a0f9-3c2d68b3c91a",
   "metadata": {},
   "outputs": [
    {
     "data": {
      "text/plain": [
       "array([ 0.,  1.,  4.,  9., 16.])"
      ]
     },
     "execution_count": 38,
     "metadata": {},
     "output_type": "execute_result"
    }
   ],
   "source": [
    "# fromiter function:\n",
    "np.fromiter(iterable, float)"
   ]
  },
  {
   "cell_type": "code",
   "execution_count": 39,
   "id": "5da55941-217e-4e21-896b-0fc74c3381a8",
   "metadata": {},
   "outputs": [
    {
     "data": {
      "text/plain": [
       "array([234., 234.])"
      ]
     },
     "execution_count": 39,
     "metadata": {},
     "output_type": "execute_result"
    }
   ],
   "source": [
    "# using fromstring\n",
    "np.fromstring('234 234', sep = ' ')"
   ]
  },
  {
   "cell_type": "code",
   "execution_count": 40,
   "id": "f8284941-31cd-42b1-a258-a2c8fca1ec10",
   "metadata": {},
   "outputs": [
    {
     "data": {
      "text/plain": [
       "array([4., 5.])"
      ]
     },
     "execution_count": 40,
     "metadata": {},
     "output_type": "execute_result"
    }
   ],
   "source": [
    "np.fromstring('4,5',sep=',')"
   ]
  },
  {
   "cell_type": "markdown",
   "id": "a6a1e0b3-357d-42b6-8882-ec84e61f178f",
   "metadata": {},
   "source": [
    "# Data-Types in NumPy:"
   ]
  },
  {
   "cell_type": "code",
   "execution_count": 41,
   "id": "8a858472-1e73-445f-9cf4-8f69081775da",
   "metadata": {},
   "outputs": [],
   "source": [
    "l=[2,3,4,5,6]"
   ]
  },
  {
   "cell_type": "code",
   "execution_count": 42,
   "id": "060559c8-9ecb-4c5f-940b-d56fa41f4656",
   "metadata": {},
   "outputs": [],
   "source": [
    "ar = np.array(l)"
   ]
  },
  {
   "cell_type": "code",
   "execution_count": 43,
   "id": "41b77ddf-be1b-46f4-8cb1-178e7ac958ad",
   "metadata": {},
   "outputs": [
    {
     "data": {
      "text/plain": [
       "array([2, 3, 4, 5, 6])"
      ]
     },
     "execution_count": 43,
     "metadata": {},
     "output_type": "execute_result"
    }
   ],
   "source": [
    "ar"
   ]
  },
  {
   "cell_type": "code",
   "execution_count": 44,
   "id": "1f6e863d-8a3c-4ae0-9e77-331410ccfe60",
   "metadata": {},
   "outputs": [
    {
     "data": {
      "text/plain": [
       "1"
      ]
     },
     "execution_count": 44,
     "metadata": {},
     "output_type": "execute_result"
    }
   ],
   "source": [
    "# to check dimension of array:\n",
    "ar.ndim"
   ]
  },
  {
   "cell_type": "code",
   "execution_count": 46,
   "id": "c196fe57-27ff-462c-a0c2-7822f7cc5cc9",
   "metadata": {},
   "outputs": [],
   "source": [
    "ar2 = np.array([[1,2,3,4],[3,4,5,6]])"
   ]
  },
  {
   "cell_type": "code",
   "execution_count": 47,
   "id": "189fe272-e98f-412e-ab31-6dc6c3197626",
   "metadata": {},
   "outputs": [
    {
     "data": {
      "text/plain": [
       "array([[1, 2, 3, 4],\n",
       "       [3, 4, 5, 6]])"
      ]
     },
     "execution_count": 47,
     "metadata": {},
     "output_type": "execute_result"
    }
   ],
   "source": [
    "ar2"
   ]
  },
  {
   "cell_type": "code",
   "execution_count": 48,
   "id": "e0b3239d-6f81-478d-bc4a-78da3698a6e8",
   "metadata": {},
   "outputs": [
    {
     "data": {
      "text/plain": [
       "2"
      ]
     },
     "execution_count": 48,
     "metadata": {},
     "output_type": "execute_result"
    }
   ],
   "source": [
    "ar2.ndim"
   ]
  },
  {
   "cell_type": "code",
   "execution_count": 49,
   "id": "5fce81f1-4700-46f0-acd2-93df7d5fa83b",
   "metadata": {},
   "outputs": [
    {
     "data": {
      "text/plain": [
       "5"
      ]
     },
     "execution_count": 49,
     "metadata": {},
     "output_type": "execute_result"
    }
   ],
   "source": [
    "# To check size of array (count of elements)\n",
    "ar.size"
   ]
  },
  {
   "cell_type": "code",
   "execution_count": 50,
   "id": "b6340c10-9d38-4293-bb65-6faf6c68a689",
   "metadata": {},
   "outputs": [
    {
     "data": {
      "text/plain": [
       "8"
      ]
     },
     "execution_count": 50,
     "metadata": {},
     "output_type": "execute_result"
    }
   ],
   "source": [
    "ar2.size"
   ]
  },
  {
   "cell_type": "code",
   "execution_count": 51,
   "id": "eded5489-b2d2-4979-82be-86d1d7ef2fc0",
   "metadata": {},
   "outputs": [
    {
     "data": {
      "text/plain": [
       "(5,)"
      ]
     },
     "execution_count": 51,
     "metadata": {},
     "output_type": "execute_result"
    }
   ],
   "source": [
    "# To display shape of array\n",
    "ar.shape"
   ]
  },
  {
   "cell_type": "code",
   "execution_count": 52,
   "id": "7d1b464b-34eb-4c83-9c5a-5df0aa451c37",
   "metadata": {},
   "outputs": [
    {
     "data": {
      "text/plain": [
       "(2, 4)"
      ]
     },
     "execution_count": 52,
     "metadata": {},
     "output_type": "execute_result"
    }
   ],
   "source": [
    "ar2.shape  #(rows, cols)"
   ]
  },
  {
   "cell_type": "code",
   "execution_count": 57,
   "id": "e5a48fdd-ed86-4394-82c4-eb495ece59db",
   "metadata": {},
   "outputs": [
    {
     "data": {
      "text/plain": [
       "dtype('int64')"
      ]
     },
     "execution_count": 57,
     "metadata": {},
     "output_type": "execute_result"
    }
   ],
   "source": [
    "# To serach data-type of elements\n",
    "ar.dtype"
   ]
  },
  {
   "cell_type": "code",
   "execution_count": 58,
   "id": "95adb2ec-e9ae-4596-8706-da7572d1be1f",
   "metadata": {},
   "outputs": [
    {
     "data": {
      "text/plain": [
       "dtype('int64')"
      ]
     },
     "execution_count": 58,
     "metadata": {},
     "output_type": "execute_result"
    }
   ],
   "source": [
    "ar2.dtype"
   ]
  },
  {
   "cell_type": "code",
   "execution_count": 59,
   "id": "52e92920-0386-4ba0-b441-b060dc650ad3",
   "metadata": {},
   "outputs": [],
   "source": [
    "ar22 = np.array([(23,34,56),(1.4,24,55)])"
   ]
  },
  {
   "cell_type": "code",
   "execution_count": 60,
   "id": "acd9e748-a8d9-47e7-adf2-68131c81cd23",
   "metadata": {},
   "outputs": [
    {
     "data": {
      "text/plain": [
       "array([[23. , 34. , 56. ],\n",
       "       [ 1.4, 24. , 55. ]])"
      ]
     },
     "execution_count": 60,
     "metadata": {},
     "output_type": "execute_result"
    }
   ],
   "source": [
    "ar22"
   ]
  },
  {
   "cell_type": "code",
   "execution_count": 61,
   "id": "3fe33f6c-29c3-4d21-81cd-b11e1248259e",
   "metadata": {},
   "outputs": [
    {
     "data": {
      "text/plain": [
       "dtype('float64')"
      ]
     },
     "execution_count": 61,
     "metadata": {},
     "output_type": "execute_result"
    }
   ],
   "source": [
    "ar22.dtype  #even single occurence of float data makes whole as flot"
   ]
  },
  {
   "cell_type": "code",
   "execution_count": 65,
   "id": "f69ff267-6dfb-40cf-be20-117a5e4f4781",
   "metadata": {},
   "outputs": [
    {
     "ename": "TypeError",
     "evalue": "'float' object cannot be interpreted as an integer",
     "output_type": "error",
     "traceback": [
      "\u001b[0;31m---------------------------------------------------------------------------\u001b[0m",
      "\u001b[0;31mTypeError\u001b[0m                                 Traceback (most recent call last)",
      "Cell \u001b[0;32mIn[65], line 3\u001b[0m\n\u001b[1;32m      1\u001b[0m \u001b[38;5;66;03m# To produce floating point using range : No, it's not possible\u001b[39;00m\n\u001b[1;32m      2\u001b[0m \u001b[38;5;66;03m# Range always allow integer value\u001b[39;00m\n\u001b[0;32m----> 3\u001b[0m \u001b[38;5;28mlist\u001b[39m(\u001b[38;5;28;43mrange\u001b[39;49m\u001b[43m(\u001b[49m\u001b[38;5;241;43m0.1\u001b[39;49m\u001b[43m,\u001b[49m\u001b[38;5;241;43m5\u001b[39;49m\u001b[43m)\u001b[49m)\n",
      "\u001b[0;31mTypeError\u001b[0m: 'float' object cannot be interpreted as an integer"
     ]
    }
   ],
   "source": [
    "# To produce floating point using range : No, it's not possible\n",
    "# Range always allow integer value\n",
    "list(range(0.1,5))"
   ]
  },
  {
   "cell_type": "markdown",
   "id": "9f4780f8-464c-41e2-927b-0bd379c17ce8",
   "metadata": {},
   "source": [
    "# More Array generation using numpy in-built functions:"
   ]
  },
  {
   "cell_type": "code",
   "execution_count": 68,
   "id": "2d839c22-0d3a-4bf3-9951-3ebde87fce99",
   "metadata": {},
   "outputs": [
    {
     "data": {
      "text/plain": [
       "array([2.3, 2.6, 2.9, 3.2, 3.5, 3.8, 4.1, 4.4, 4.7, 5. , 5.3])"
      ]
     },
     "execution_count": 68,
     "metadata": {},
     "output_type": "execute_result"
    }
   ],
   "source": [
    "# using numpy:we can produce floating numbers:\n",
    "np.arange(2.3,5.6)\n",
    "np.arange(2.3,5.6,.3)  #jump can also be defined"
   ]
  },
  {
   "cell_type": "code",
   "execution_count": 69,
   "id": "8d277c02-c804-4b3c-81fc-aafc07c47522",
   "metadata": {},
   "outputs": [
    {
     "data": {
      "text/plain": [
       "[2.3,\n",
       " 2.5999999999999996,\n",
       " 2.8999999999999995,\n",
       " 3.1999999999999993,\n",
       " 3.499999999999999,\n",
       " 3.799999999999999,\n",
       " 4.099999999999999,\n",
       " 4.399999999999999,\n",
       " 4.699999999999998,\n",
       " 4.999999999999998,\n",
       " 5.299999999999998]"
      ]
     },
     "execution_count": 69,
     "metadata": {},
     "output_type": "execute_result"
    }
   ],
   "source": [
    "# Convert array to list:\n",
    "list(np.arange(2.3,5.6,.3))"
   ]
  },
  {
   "cell_type": "code",
   "execution_count": 70,
   "id": "a2f066c8-29a2-4b2b-b66d-3cc338376e3a",
   "metadata": {},
   "outputs": [
    {
     "data": {
      "text/plain": [
       "array([1.        , 1.44444444, 1.88888889, 2.33333333, 2.77777778,\n",
       "       3.22222222, 3.66666667, 4.11111111, 4.55555556, 5.        ])"
      ]
     },
     "execution_count": 70,
     "metadata": {},
     "output_type": "execute_result"
    }
   ],
   "source": [
    "# linspace function: Takes a line 1 to 5 and divide into 10 equal spaces\n",
    "np.linspace(1,5,10)  #generator function\n"
   ]
  },
  {
   "cell_type": "code",
   "execution_count": 71,
   "id": "ddf10415-4b8b-4c3a-8af6-c02c9c663eb4",
   "metadata": {},
   "outputs": [
    {
     "data": {
      "text/plain": [
       "array([0., 0., 0., 0., 0.])"
      ]
     },
     "execution_count": 71,
     "metadata": {},
     "output_type": "execute_result"
    }
   ],
   "source": [
    "# zeros()\n",
    "np.zeros(5)  #1-D"
   ]
  },
  {
   "cell_type": "code",
   "execution_count": 72,
   "id": "d4629944-6920-49a6-b9ae-a62e22d56ad3",
   "metadata": {},
   "outputs": [
    {
     "data": {
      "text/plain": [
       "array([[0., 0., 0., 0.],\n",
       "       [0., 0., 0., 0.],\n",
       "       [0., 0., 0., 0.]])"
      ]
     },
     "execution_count": 72,
     "metadata": {},
     "output_type": "execute_result"
    }
   ],
   "source": [
    "# 2-D\n",
    "np.zeros((3,4))"
   ]
  },
  {
   "cell_type": "code",
   "execution_count": 73,
   "id": "774d0028-c10d-4339-ae07-80fe0003958f",
   "metadata": {},
   "outputs": [
    {
     "data": {
      "text/plain": [
       "array([[[0., 0.],\n",
       "        [0., 0.],\n",
       "        [0., 0.],\n",
       "        [0., 0.]],\n",
       "\n",
       "       [[0., 0.],\n",
       "        [0., 0.],\n",
       "        [0., 0.],\n",
       "        [0., 0.]],\n",
       "\n",
       "       [[0., 0.],\n",
       "        [0., 0.],\n",
       "        [0., 0.],\n",
       "        [0., 0.]]])"
      ]
     },
     "execution_count": 73,
     "metadata": {},
     "output_type": "execute_result"
    }
   ],
   "source": [
    "# 3-D array\n",
    "np.zeros((3,4,2))"
   ]
  },
  {
   "cell_type": "code",
   "execution_count": 76,
   "id": "807ee06b-ade7-47ab-8681-4c3a7cd6f8d5",
   "metadata": {},
   "outputs": [],
   "source": [
    "# 4-D array\n",
    "ar4= np.zeros((3,4,2,3))  # 2x3 >4 such matrixes > repeat 3 times"
   ]
  },
  {
   "cell_type": "code",
   "execution_count": 77,
   "id": "eec58b5f-5a56-45b6-be46-92d80299d83b",
   "metadata": {},
   "outputs": [
    {
     "data": {
      "text/plain": [
       "4"
      ]
     },
     "execution_count": 77,
     "metadata": {},
     "output_type": "execute_result"
    }
   ],
   "source": [
    "ar4.ndim"
   ]
  },
  {
   "cell_type": "code",
   "execution_count": 78,
   "id": "63200f96-4559-4b3c-b97c-be85e1ce1f4f",
   "metadata": {},
   "outputs": [
    {
     "data": {
      "text/plain": [
       "array([[[[0., 0., 0.],\n",
       "         [0., 0., 0.]],\n",
       "\n",
       "        [[0., 0., 0.],\n",
       "         [0., 0., 0.]],\n",
       "\n",
       "        [[0., 0., 0.],\n",
       "         [0., 0., 0.]],\n",
       "\n",
       "        [[0., 0., 0.],\n",
       "         [0., 0., 0.]]],\n",
       "\n",
       "\n",
       "       [[[0., 0., 0.],\n",
       "         [0., 0., 0.]],\n",
       "\n",
       "        [[0., 0., 0.],\n",
       "         [0., 0., 0.]],\n",
       "\n",
       "        [[0., 0., 0.],\n",
       "         [0., 0., 0.]],\n",
       "\n",
       "        [[0., 0., 0.],\n",
       "         [0., 0., 0.]]],\n",
       "\n",
       "\n",
       "       [[[0., 0., 0.],\n",
       "         [0., 0., 0.]],\n",
       "\n",
       "        [[0., 0., 0.],\n",
       "         [0., 0., 0.]],\n",
       "\n",
       "        [[0., 0., 0.],\n",
       "         [0., 0., 0.]],\n",
       "\n",
       "        [[0., 0., 0.],\n",
       "         [0., 0., 0.]]]])"
      ]
     },
     "execution_count": 78,
     "metadata": {},
     "output_type": "execute_result"
    }
   ],
   "source": [
    "ar4"
   ]
  },
  {
   "cell_type": "code",
   "execution_count": 79,
   "id": "580abfe6-d41a-41a8-a4ff-0579dd94107f",
   "metadata": {},
   "outputs": [
    {
     "data": {
      "text/plain": [
       "array([1., 1., 1., 1.])"
      ]
     },
     "execution_count": 79,
     "metadata": {},
     "output_type": "execute_result"
    }
   ],
   "source": [
    "# ones()\n",
    "# 1-D\n",
    "np.ones(4)"
   ]
  },
  {
   "cell_type": "code",
   "execution_count": 80,
   "id": "91532fdc-9719-45b6-ac7a-883398be62f5",
   "metadata": {},
   "outputs": [
    {
     "data": {
      "text/plain": [
       "array([[1., 1., 1.],\n",
       "       [1., 1., 1.]])"
      ]
     },
     "execution_count": 80,
     "metadata": {},
     "output_type": "execute_result"
    }
   ],
   "source": [
    "# 2-D\n",
    "np.ones((2,3))"
   ]
  },
  {
   "cell_type": "code",
   "execution_count": 81,
   "id": "6346c8ab-591a-4560-b08b-165465a54c9e",
   "metadata": {},
   "outputs": [
    {
     "data": {
      "text/plain": [
       "array([[[1., 1.],\n",
       "        [1., 1.],\n",
       "        [1., 1.]],\n",
       "\n",
       "       [[1., 1.],\n",
       "        [1., 1.],\n",
       "        [1., 1.]]])"
      ]
     },
     "execution_count": 81,
     "metadata": {},
     "output_type": "execute_result"
    }
   ],
   "source": [
    "# 3-D\n",
    "np.ones((2,3,2))"
   ]
  },
  {
   "cell_type": "code",
   "execution_count": 82,
   "id": "bfe0c31d-eccf-4faf-8741-14b349fd0f52",
   "metadata": {},
   "outputs": [],
   "source": [
    "on = np.ones((2,3,2))"
   ]
  },
  {
   "cell_type": "code",
   "execution_count": 83,
   "id": "89295c59-b3a2-4c5a-8f07-5155e0842f8f",
   "metadata": {},
   "outputs": [
    {
     "data": {
      "text/plain": [
       "array([[[6., 6.],\n",
       "        [6., 6.],\n",
       "        [6., 6.]],\n",
       "\n",
       "       [[6., 6.],\n",
       "        [6., 6.],\n",
       "        [6., 6.]]])"
      ]
     },
     "execution_count": 83,
     "metadata": {},
     "output_type": "execute_result"
    }
   ],
   "source": [
    "# Addition with array elements:\n",
    "on+5"
   ]
  },
  {
   "cell_type": "code",
   "execution_count": 86,
   "id": "6cb1de98-b2be-43eb-8fbe-5e3ba936a784",
   "metadata": {},
   "outputs": [
    {
     "data": {
      "text/plain": [
       "array([[[10., 10.],\n",
       "        [10., 10.],\n",
       "        [10., 10.]],\n",
       "\n",
       "       [[10., 10.],\n",
       "        [10., 10.],\n",
       "        [10., 10.]]])"
      ]
     },
     "execution_count": 86,
     "metadata": {},
     "output_type": "execute_result"
    }
   ],
   "source": [
    "on*2*5"
   ]
  },
  {
   "cell_type": "code",
   "execution_count": 89,
   "id": "17f949a5-8443-4812-957e-e7c32887e0a6",
   "metadata": {},
   "outputs": [
    {
     "data": {
      "text/plain": [
       "array([[10., 10., 10., 10.],\n",
       "       [10., 10., 10., 10.],\n",
       "       [10., 10., 10., 10.]])"
      ]
     },
     "execution_count": 89,
     "metadata": {},
     "output_type": "execute_result"
    }
   ],
   "source": [
    "# empty()\n",
    "np.empty((3,4))"
   ]
  },
  {
   "cell_type": "code",
   "execution_count": 95,
   "id": "9471e4a5-ef01-4291-b3b7-749ed364de21",
   "metadata": {},
   "outputs": [
    {
     "data": {
      "text/plain": [
       "array([[1., 0., 0., 0.],\n",
       "       [0., 1., 0., 0.],\n",
       "       [0., 0., 1., 0.],\n",
       "       [0., 0., 0., 1.]])"
      ]
     },
     "execution_count": 95,
     "metadata": {},
     "output_type": "execute_result"
    }
   ],
   "source": [
    "# identity matrixes: eye() Square matrix dimension is same\n",
    "# determiner is 1 and 1 can be found as diagonals\n",
    "np.eye((4))"
   ]
  },
  {
   "cell_type": "code",
   "execution_count": 96,
   "id": "bac49f02-9a0c-4075-a46a-991e5a468564",
   "metadata": {},
   "outputs": [
    {
     "data": {
      "text/plain": [
       "array([2.        , 2.10526316, 2.21052632, 2.31578947, 2.42105263,\n",
       "       2.52631579, 2.63157895, 2.73684211, 2.84210526, 2.94736842,\n",
       "       3.05263158, 3.15789474, 3.26315789, 3.36842105, 3.47368421,\n",
       "       3.57894737, 3.68421053, 3.78947368, 3.89473684, 4.        ])"
      ]
     },
     "execution_count": 96,
     "metadata": {},
     "output_type": "execute_result"
    }
   ],
   "source": [
    "np.linspace(2,4, 20)"
   ]
  },
  {
   "cell_type": "code",
   "execution_count": 97,
   "id": "254c5679-c50d-4948-8804-fdbdf6cbbba1",
   "metadata": {},
   "outputs": [
    {
     "data": {
      "text/plain": [
       "array([   100.        ,    215.443469  ,    464.15888336,   1000.        ,\n",
       "         2154.43469003,   4641.58883361,  10000.        ,  21544.34690032,\n",
       "        46415.88833613, 100000.        ])"
      ]
     },
     "execution_count": 97,
     "metadata": {},
     "output_type": "execute_result"
    }
   ],
   "source": [
    "# logspace(): calculate log between given range\n",
    "np.logspace(2,5,10)"
   ]
  },
  {
   "cell_type": "code",
   "execution_count": 98,
   "id": "bdf60813-7623-453d-8e35-323346994a31",
   "metadata": {},
   "outputs": [
    {
     "data": {
      "text/plain": [
       "array([ 4.        ,  5.0396842 ,  6.34960421,  8.        , 10.0793684 ,\n",
       "       12.69920842, 16.        , 20.1587368 , 25.39841683, 32.        ])"
      ]
     },
     "execution_count": 98,
     "metadata": {},
     "output_type": "execute_result"
    }
   ],
   "source": [
    "# base can also be defined for calculating log\n",
    "np.logspace(2,5,10, base=2)"
   ]
  },
  {
   "cell_type": "code",
   "execution_count": null,
   "id": "04d5cd54-2da9-42de-ab15-3fd86048cc07",
   "metadata": {},
   "outputs": [],
   "source": []
  },
  {
   "cell_type": "markdown",
   "id": "5bb96130-10e5-4513-a183-5871454a7eaa",
   "metadata": {},
   "source": [
    "# Famous and Most useful functions of numpy:"
   ]
  },
  {
   "cell_type": "code",
   "execution_count": 100,
   "id": "0ff2ac73-b473-4add-aa47-e340623fac9c",
   "metadata": {},
   "outputs": [],
   "source": [
    "# randn() function\n",
    "arr = np.random.randn(3,4)  #(3 rows, 4 cols)\n",
    "# Generates such set of data where,\n",
    "# mean of data == 0\n",
    "# Standard deviation == 1 (standard normal distribution)"
   ]
  },
  {
   "cell_type": "code",
   "execution_count": 101,
   "id": "d4327f03-cdee-4c60-938a-7134d5199889",
   "metadata": {},
   "outputs": [],
   "source": [
    "import pandas as pd"
   ]
  },
  {
   "cell_type": "code",
   "execution_count": 102,
   "id": "d26728a4-0f60-4d95-bbec-aa0d0b7df9f8",
   "metadata": {},
   "outputs": [
    {
     "data": {
      "text/html": [
       "<div>\n",
       "<style scoped>\n",
       "    .dataframe tbody tr th:only-of-type {\n",
       "        vertical-align: middle;\n",
       "    }\n",
       "\n",
       "    .dataframe tbody tr th {\n",
       "        vertical-align: top;\n",
       "    }\n",
       "\n",
       "    .dataframe thead th {\n",
       "        text-align: right;\n",
       "    }\n",
       "</style>\n",
       "<table border=\"1\" class=\"dataframe\">\n",
       "  <thead>\n",
       "    <tr style=\"text-align: right;\">\n",
       "      <th></th>\n",
       "      <th>0</th>\n",
       "      <th>1</th>\n",
       "      <th>2</th>\n",
       "      <th>3</th>\n",
       "    </tr>\n",
       "  </thead>\n",
       "  <tbody>\n",
       "    <tr>\n",
       "      <th>0</th>\n",
       "      <td>1.040679</td>\n",
       "      <td>0.313878</td>\n",
       "      <td>-1.617395</td>\n",
       "      <td>0.019175</td>\n",
       "    </tr>\n",
       "    <tr>\n",
       "      <th>1</th>\n",
       "      <td>0.134479</td>\n",
       "      <td>-0.915051</td>\n",
       "      <td>-0.260357</td>\n",
       "      <td>0.793743</td>\n",
       "    </tr>\n",
       "    <tr>\n",
       "      <th>2</th>\n",
       "      <td>0.321324</td>\n",
       "      <td>-0.394728</td>\n",
       "      <td>0.235487</td>\n",
       "      <td>0.764169</td>\n",
       "    </tr>\n",
       "  </tbody>\n",
       "</table>\n",
       "</div>"
      ],
      "text/plain": [
       "          0         1         2         3\n",
       "0  1.040679  0.313878 -1.617395  0.019175\n",
       "1  0.134479 -0.915051 -0.260357  0.793743\n",
       "2  0.321324 -0.394728  0.235487  0.764169"
      ]
     },
     "execution_count": 102,
     "metadata": {},
     "output_type": "execute_result"
    }
   ],
   "source": [
    "# Convert into dataframe:\n",
    "pd.DataFrame(arr)"
   ]
  },
  {
   "cell_type": "code",
   "execution_count": 105,
   "id": "30cbea04-8cff-4ee7-877b-bb808a043c6e",
   "metadata": {},
   "outputs": [
    {
     "data": {
      "text/plain": [
       "array([[0.51668658, 0.90232327, 0.1879032 , 0.5979953 ],\n",
       "       [0.91641877, 0.51230351, 0.73012649, 0.33369975],\n",
       "       [0.83042797, 0.02355249, 0.704426  , 0.22273338]])"
      ]
     },
     "execution_count": 105,
     "metadata": {},
     "output_type": "execute_result"
    }
   ],
   "source": [
    "# rand() function:\n",
    "np.random.rand(3,4)\n",
    "# rand() generates some random set of data every time generate diff set of data"
   ]
  },
  {
   "cell_type": "code",
   "execution_count": 106,
   "id": "a96a2b7e-9b92-4725-9c81-583eb93f96e6",
   "metadata": {},
   "outputs": [
    {
     "data": {
      "text/plain": [
       "array([[  6,  24,  87,  96],\n",
       "       [102,  16,   9, 103],\n",
       "       [ 35, 105,  48,  93]])"
      ]
     },
     "execution_count": 106,
     "metadata": {},
     "output_type": "execute_result"
    }
   ],
   "source": [
    "# randint(): generates random integers only\n",
    "np.random.randint(1,110,(3,4))\n"
   ]
  },
  {
   "cell_type": "code",
   "execution_count": 107,
   "id": "cc917f3e-fd9c-4bf4-a8fc-c73ccc4b3950",
   "metadata": {},
   "outputs": [
    {
     "data": {
      "text/plain": [
       "array([[ 56,  55, 109, ...,  30,  33,  23],\n",
       "       [ 68,  44,  20, ..., 105,  89,  43],\n",
       "       [ 43,   3,  44, ...,  47,  73,   8],\n",
       "       ...,\n",
       "       [ 66,  16,  68, ...,  81,  66,  79],\n",
       "       [ 84,  37,  74, ...,  87,   2,  29],\n",
       "       [  9,  77,  78, ...,  81,  84,  63]])"
      ]
     },
     "execution_count": 107,
     "metadata": {},
     "output_type": "execute_result"
    }
   ],
   "source": [
    "# Produce random data having 300 rows and 400 cols:\n",
    "np.random.randint(1,110,(300,400))"
   ]
  },
  {
   "cell_type": "code",
   "execution_count": 108,
   "id": "e71cabc6-e17d-43bc-8a8f-bce6ad71318f",
   "metadata": {},
   "outputs": [
    {
     "data": {
      "text/html": [
       "<div>\n",
       "<style scoped>\n",
       "    .dataframe tbody tr th:only-of-type {\n",
       "        vertical-align: middle;\n",
       "    }\n",
       "\n",
       "    .dataframe tbody tr th {\n",
       "        vertical-align: top;\n",
       "    }\n",
       "\n",
       "    .dataframe thead th {\n",
       "        text-align: right;\n",
       "    }\n",
       "</style>\n",
       "<table border=\"1\" class=\"dataframe\">\n",
       "  <thead>\n",
       "    <tr style=\"text-align: right;\">\n",
       "      <th></th>\n",
       "      <th>0</th>\n",
       "      <th>1</th>\n",
       "      <th>2</th>\n",
       "      <th>3</th>\n",
       "      <th>4</th>\n",
       "      <th>5</th>\n",
       "      <th>6</th>\n",
       "      <th>7</th>\n",
       "      <th>8</th>\n",
       "      <th>9</th>\n",
       "      <th>...</th>\n",
       "      <th>390</th>\n",
       "      <th>391</th>\n",
       "      <th>392</th>\n",
       "      <th>393</th>\n",
       "      <th>394</th>\n",
       "      <th>395</th>\n",
       "      <th>396</th>\n",
       "      <th>397</th>\n",
       "      <th>398</th>\n",
       "      <th>399</th>\n",
       "    </tr>\n",
       "  </thead>\n",
       "  <tbody>\n",
       "    <tr>\n",
       "      <th>0</th>\n",
       "      <td>91</td>\n",
       "      <td>77</td>\n",
       "      <td>35</td>\n",
       "      <td>7</td>\n",
       "      <td>71</td>\n",
       "      <td>2</td>\n",
       "      <td>19</td>\n",
       "      <td>56</td>\n",
       "      <td>51</td>\n",
       "      <td>34</td>\n",
       "      <td>...</td>\n",
       "      <td>92</td>\n",
       "      <td>70</td>\n",
       "      <td>99</td>\n",
       "      <td>84</td>\n",
       "      <td>32</td>\n",
       "      <td>52</td>\n",
       "      <td>109</td>\n",
       "      <td>35</td>\n",
       "      <td>59</td>\n",
       "      <td>87</td>\n",
       "    </tr>\n",
       "    <tr>\n",
       "      <th>1</th>\n",
       "      <td>47</td>\n",
       "      <td>57</td>\n",
       "      <td>82</td>\n",
       "      <td>107</td>\n",
       "      <td>26</td>\n",
       "      <td>13</td>\n",
       "      <td>77</td>\n",
       "      <td>27</td>\n",
       "      <td>80</td>\n",
       "      <td>84</td>\n",
       "      <td>...</td>\n",
       "      <td>106</td>\n",
       "      <td>53</td>\n",
       "      <td>105</td>\n",
       "      <td>24</td>\n",
       "      <td>91</td>\n",
       "      <td>22</td>\n",
       "      <td>2</td>\n",
       "      <td>106</td>\n",
       "      <td>4</td>\n",
       "      <td>62</td>\n",
       "    </tr>\n",
       "    <tr>\n",
       "      <th>2</th>\n",
       "      <td>102</td>\n",
       "      <td>91</td>\n",
       "      <td>88</td>\n",
       "      <td>96</td>\n",
       "      <td>25</td>\n",
       "      <td>59</td>\n",
       "      <td>33</td>\n",
       "      <td>75</td>\n",
       "      <td>53</td>\n",
       "      <td>76</td>\n",
       "      <td>...</td>\n",
       "      <td>1</td>\n",
       "      <td>76</td>\n",
       "      <td>25</td>\n",
       "      <td>105</td>\n",
       "      <td>2</td>\n",
       "      <td>107</td>\n",
       "      <td>58</td>\n",
       "      <td>12</td>\n",
       "      <td>31</td>\n",
       "      <td>36</td>\n",
       "    </tr>\n",
       "    <tr>\n",
       "      <th>3</th>\n",
       "      <td>63</td>\n",
       "      <td>65</td>\n",
       "      <td>53</td>\n",
       "      <td>20</td>\n",
       "      <td>99</td>\n",
       "      <td>26</td>\n",
       "      <td>43</td>\n",
       "      <td>32</td>\n",
       "      <td>64</td>\n",
       "      <td>2</td>\n",
       "      <td>...</td>\n",
       "      <td>27</td>\n",
       "      <td>88</td>\n",
       "      <td>93</td>\n",
       "      <td>13</td>\n",
       "      <td>19</td>\n",
       "      <td>68</td>\n",
       "      <td>53</td>\n",
       "      <td>84</td>\n",
       "      <td>18</td>\n",
       "      <td>57</td>\n",
       "    </tr>\n",
       "    <tr>\n",
       "      <th>4</th>\n",
       "      <td>62</td>\n",
       "      <td>38</td>\n",
       "      <td>29</td>\n",
       "      <td>47</td>\n",
       "      <td>38</td>\n",
       "      <td>68</td>\n",
       "      <td>16</td>\n",
       "      <td>8</td>\n",
       "      <td>33</td>\n",
       "      <td>96</td>\n",
       "      <td>...</td>\n",
       "      <td>7</td>\n",
       "      <td>65</td>\n",
       "      <td>69</td>\n",
       "      <td>84</td>\n",
       "      <td>48</td>\n",
       "      <td>5</td>\n",
       "      <td>55</td>\n",
       "      <td>62</td>\n",
       "      <td>64</td>\n",
       "      <td>86</td>\n",
       "    </tr>\n",
       "    <tr>\n",
       "      <th>...</th>\n",
       "      <td>...</td>\n",
       "      <td>...</td>\n",
       "      <td>...</td>\n",
       "      <td>...</td>\n",
       "      <td>...</td>\n",
       "      <td>...</td>\n",
       "      <td>...</td>\n",
       "      <td>...</td>\n",
       "      <td>...</td>\n",
       "      <td>...</td>\n",
       "      <td>...</td>\n",
       "      <td>...</td>\n",
       "      <td>...</td>\n",
       "      <td>...</td>\n",
       "      <td>...</td>\n",
       "      <td>...</td>\n",
       "      <td>...</td>\n",
       "      <td>...</td>\n",
       "      <td>...</td>\n",
       "      <td>...</td>\n",
       "      <td>...</td>\n",
       "    </tr>\n",
       "    <tr>\n",
       "      <th>295</th>\n",
       "      <td>5</td>\n",
       "      <td>109</td>\n",
       "      <td>41</td>\n",
       "      <td>40</td>\n",
       "      <td>61</td>\n",
       "      <td>23</td>\n",
       "      <td>26</td>\n",
       "      <td>53</td>\n",
       "      <td>11</td>\n",
       "      <td>37</td>\n",
       "      <td>...</td>\n",
       "      <td>19</td>\n",
       "      <td>59</td>\n",
       "      <td>72</td>\n",
       "      <td>79</td>\n",
       "      <td>72</td>\n",
       "      <td>28</td>\n",
       "      <td>47</td>\n",
       "      <td>107</td>\n",
       "      <td>90</td>\n",
       "      <td>17</td>\n",
       "    </tr>\n",
       "    <tr>\n",
       "      <th>296</th>\n",
       "      <td>98</td>\n",
       "      <td>109</td>\n",
       "      <td>77</td>\n",
       "      <td>12</td>\n",
       "      <td>89</td>\n",
       "      <td>7</td>\n",
       "      <td>12</td>\n",
       "      <td>71</td>\n",
       "      <td>30</td>\n",
       "      <td>108</td>\n",
       "      <td>...</td>\n",
       "      <td>103</td>\n",
       "      <td>64</td>\n",
       "      <td>46</td>\n",
       "      <td>104</td>\n",
       "      <td>14</td>\n",
       "      <td>27</td>\n",
       "      <td>65</td>\n",
       "      <td>89</td>\n",
       "      <td>62</td>\n",
       "      <td>19</td>\n",
       "    </tr>\n",
       "    <tr>\n",
       "      <th>297</th>\n",
       "      <td>75</td>\n",
       "      <td>36</td>\n",
       "      <td>8</td>\n",
       "      <td>79</td>\n",
       "      <td>26</td>\n",
       "      <td>57</td>\n",
       "      <td>94</td>\n",
       "      <td>18</td>\n",
       "      <td>13</td>\n",
       "      <td>88</td>\n",
       "      <td>...</td>\n",
       "      <td>29</td>\n",
       "      <td>16</td>\n",
       "      <td>50</td>\n",
       "      <td>4</td>\n",
       "      <td>98</td>\n",
       "      <td>36</td>\n",
       "      <td>39</td>\n",
       "      <td>94</td>\n",
       "      <td>3</td>\n",
       "      <td>12</td>\n",
       "    </tr>\n",
       "    <tr>\n",
       "      <th>298</th>\n",
       "      <td>80</td>\n",
       "      <td>90</td>\n",
       "      <td>67</td>\n",
       "      <td>66</td>\n",
       "      <td>80</td>\n",
       "      <td>16</td>\n",
       "      <td>14</td>\n",
       "      <td>41</td>\n",
       "      <td>84</td>\n",
       "      <td>16</td>\n",
       "      <td>...</td>\n",
       "      <td>69</td>\n",
       "      <td>67</td>\n",
       "      <td>80</td>\n",
       "      <td>50</td>\n",
       "      <td>10</td>\n",
       "      <td>11</td>\n",
       "      <td>6</td>\n",
       "      <td>102</td>\n",
       "      <td>3</td>\n",
       "      <td>72</td>\n",
       "    </tr>\n",
       "    <tr>\n",
       "      <th>299</th>\n",
       "      <td>16</td>\n",
       "      <td>4</td>\n",
       "      <td>31</td>\n",
       "      <td>108</td>\n",
       "      <td>41</td>\n",
       "      <td>85</td>\n",
       "      <td>27</td>\n",
       "      <td>11</td>\n",
       "      <td>102</td>\n",
       "      <td>103</td>\n",
       "      <td>...</td>\n",
       "      <td>100</td>\n",
       "      <td>96</td>\n",
       "      <td>2</td>\n",
       "      <td>15</td>\n",
       "      <td>68</td>\n",
       "      <td>74</td>\n",
       "      <td>10</td>\n",
       "      <td>41</td>\n",
       "      <td>9</td>\n",
       "      <td>69</td>\n",
       "    </tr>\n",
       "  </tbody>\n",
       "</table>\n",
       "<p>300 rows × 400 columns</p>\n",
       "</div>"
      ],
      "text/plain": [
       "     0    1    2    3    4    5    6    7    8    9    ...  390  391  392  \\\n",
       "0     91   77   35    7   71    2   19   56   51   34  ...   92   70   99   \n",
       "1     47   57   82  107   26   13   77   27   80   84  ...  106   53  105   \n",
       "2    102   91   88   96   25   59   33   75   53   76  ...    1   76   25   \n",
       "3     63   65   53   20   99   26   43   32   64    2  ...   27   88   93   \n",
       "4     62   38   29   47   38   68   16    8   33   96  ...    7   65   69   \n",
       "..   ...  ...  ...  ...  ...  ...  ...  ...  ...  ...  ...  ...  ...  ...   \n",
       "295    5  109   41   40   61   23   26   53   11   37  ...   19   59   72   \n",
       "296   98  109   77   12   89    7   12   71   30  108  ...  103   64   46   \n",
       "297   75   36    8   79   26   57   94   18   13   88  ...   29   16   50   \n",
       "298   80   90   67   66   80   16   14   41   84   16  ...   69   67   80   \n",
       "299   16    4   31  108   41   85   27   11  102  103  ...  100   96    2   \n",
       "\n",
       "     393  394  395  396  397  398  399  \n",
       "0     84   32   52  109   35   59   87  \n",
       "1     24   91   22    2  106    4   62  \n",
       "2    105    2  107   58   12   31   36  \n",
       "3     13   19   68   53   84   18   57  \n",
       "4     84   48    5   55   62   64   86  \n",
       "..   ...  ...  ...  ...  ...  ...  ...  \n",
       "295   79   72   28   47  107   90   17  \n",
       "296  104   14   27   65   89   62   19  \n",
       "297    4   98   36   39   94    3   12  \n",
       "298   50   10   11    6  102    3   72  \n",
       "299   15   68   74   10   41    9   69  \n",
       "\n",
       "[300 rows x 400 columns]"
      ]
     },
     "execution_count": 108,
     "metadata": {},
     "output_type": "execute_result"
    }
   ],
   "source": [
    "# Convert into data-frame:\n",
    "pd.DataFrame(np.random.randint(1,110,(300,400)))"
   ]
  },
  {
   "cell_type": "code",
   "execution_count": 109,
   "id": "4b820c61-45cf-4276-bef0-29d53d39084c",
   "metadata": {},
   "outputs": [],
   "source": [
    "# To store generated dataFrame into a csv file:\n",
    "pd.DataFrame(np.random.randint(1,110,(300,400))).to_csv('random.csv')"
   ]
  },
  {
   "cell_type": "code",
   "execution_count": 110,
   "id": "27f0cbdc-8d14-42a1-83bb-b59dfbf2c04a",
   "metadata": {},
   "outputs": [],
   "source": [
    "# Switch of different shape: using reshpae()\n",
    "# reshape() >> Can be used vastly in image processing.\n",
    "arr = np.random.rand(3,4) \n"
   ]
  },
  {
   "cell_type": "code",
   "execution_count": 111,
   "id": "f5e11f30-1754-47d3-8e3d-cb9d59a73517",
   "metadata": {},
   "outputs": [
    {
     "data": {
      "text/plain": [
       "array([[0.04339066, 0.45437937, 0.45515479, 0.67175848],\n",
       "       [0.71716659, 0.58819453, 0.8205792 , 0.16050274],\n",
       "       [0.98615826, 0.74466398, 0.62602068, 0.92760159]])"
      ]
     },
     "execution_count": 111,
     "metadata": {},
     "output_type": "execute_result"
    }
   ],
   "source": [
    "arr"
   ]
  },
  {
   "cell_type": "code",
   "execution_count": 113,
   "id": "4002750d-f0a5-4236-a66f-eeffbe1a71da",
   "metadata": {},
   "outputs": [
    {
     "data": {
      "text/plain": [
       "array([[0.04339066, 0.45437937],\n",
       "       [0.45515479, 0.67175848],\n",
       "       [0.71716659, 0.58819453],\n",
       "       [0.8205792 , 0.16050274],\n",
       "       [0.98615826, 0.74466398],\n",
       "       [0.62602068, 0.92760159]])"
      ]
     },
     "execution_count": 113,
     "metadata": {},
     "output_type": "execute_result"
    }
   ],
   "source": [
    "# Total 12 data available : needs to be multiple of data\n",
    "arr.reshape(6,2)"
   ]
  },
  {
   "cell_type": "code",
   "execution_count": 114,
   "id": "617d6d01-ed7f-4e8c-921c-7a3422898edc",
   "metadata": {},
   "outputs": [
    {
     "data": {
      "text/plain": [
       "array([[0.04339066, 0.45437937],\n",
       "       [0.45515479, 0.67175848],\n",
       "       [0.71716659, 0.58819453],\n",
       "       [0.8205792 , 0.16050274],\n",
       "       [0.98615826, 0.74466398],\n",
       "       [0.62602068, 0.92760159]])"
      ]
     },
     "execution_count": 114,
     "metadata": {},
     "output_type": "execute_result"
    }
   ],
   "source": [
    "arr.reshape(6,-1) #understood other as 2-D array"
   ]
  },
  {
   "cell_type": "code",
   "execution_count": 115,
   "id": "bc227107-3f7d-4f08-8002-e7844f105152",
   "metadata": {},
   "outputs": [
    {
     "data": {
      "text/plain": [
       "array([[0.04339066, 0.45437937],\n",
       "       [0.45515479, 0.67175848],\n",
       "       [0.71716659, 0.58819453],\n",
       "       [0.8205792 , 0.16050274],\n",
       "       [0.98615826, 0.74466398],\n",
       "       [0.62602068, 0.92760159]])"
      ]
     },
     "execution_count": 115,
     "metadata": {},
     "output_type": "execute_result"
    }
   ],
   "source": [
    "arr.reshape(6,-12343432423344)"
   ]
  },
  {
   "cell_type": "code",
   "execution_count": 116,
   "id": "b0ac8aed-2c18-4efd-84fe-dd7802c02022",
   "metadata": {},
   "outputs": [],
   "source": [
    "# To fetch data from any given array:\n",
    "\n",
    "arr1 = arr.reshape(6,-12343432423344)"
   ]
  },
  {
   "cell_type": "code",
   "execution_count": 120,
   "id": "64b0b81a-c3f7-46ea-a199-0faba3c19e27",
   "metadata": {},
   "outputs": [
    {
     "data": {
      "text/plain": [
       "0.6717584791733441"
      ]
     },
     "execution_count": 120,
     "metadata": {},
     "output_type": "execute_result"
    }
   ],
   "source": [
    "# fetch data from 2nd row- 2nd col\n",
    "arr1[1][1]"
   ]
  },
  {
   "cell_type": "code",
   "execution_count": 122,
   "id": "b3d3eadc-f904-4dca-af39-c1f4f023409e",
   "metadata": {},
   "outputs": [
    {
     "data": {
      "text/plain": [
       "array([0.58819453, 0.16050274, 0.74466398])"
      ]
     },
     "execution_count": 122,
     "metadata": {},
     "output_type": "execute_result"
    }
   ],
   "source": [
    "# fetch data from 2nd column > 3,4,5 rows\n",
    "# Any sub-string can be fetched\n",
    "arr1[2:5,1] #[rows, column] >> slicing rows"
   ]
  },
  {
   "cell_type": "code",
   "execution_count": 125,
   "id": "f9a9fafd-1191-40c9-ab6e-790c62e484e1",
   "metadata": {},
   "outputs": [],
   "source": [
    "# To fetch conditional data from array.\n",
    "arr = np.random.randint(1,100,(5,5))"
   ]
  },
  {
   "cell_type": "code",
   "execution_count": 126,
   "id": "23eb992b-6834-4fb1-91fd-ce1e825f0817",
   "metadata": {},
   "outputs": [
    {
     "data": {
      "text/plain": [
       "array([[ 8, 88, 86, 14, 24],\n",
       "       [83, 44, 61, 27,  4],\n",
       "       [50, 79, 49,  1, 50],\n",
       "       [ 2, 76,  7, 21, 31],\n",
       "       [11, 65, 24, 43, 57]])"
      ]
     },
     "execution_count": 126,
     "metadata": {},
     "output_type": "execute_result"
    }
   ],
   "source": [
    "arr"
   ]
  },
  {
   "cell_type": "code",
   "execution_count": 128,
   "id": "5d1ef328-490d-453e-835a-912aae152eaa",
   "metadata": {},
   "outputs": [
    {
     "data": {
      "text/plain": [
       "array([88, 86, 83, 61, 79, 76, 65, 57])"
      ]
     },
     "execution_count": 128,
     "metadata": {},
     "output_type": "execute_result"
    }
   ],
   "source": [
    "# fetch elements whose value more than 50\n",
    "arr[arr > 50]"
   ]
  },
  {
   "cell_type": "code",
   "execution_count": 129,
   "id": "502d84a2-c925-440b-9704-f84add5dacda",
   "metadata": {},
   "outputs": [
    {
     "data": {
      "text/plain": [
       "array([[79, 49],\n",
       "       [76,  7]])"
      ]
     },
     "execution_count": 129,
     "metadata": {},
     "output_type": "execute_result"
    }
   ],
   "source": [
    "# To fetch specific intersection of (row x col) data:\n",
    "\n",
    "arr[2:4,[1,2]]  #[rows(slicing), columns]"
   ]
  },
  {
   "cell_type": "code",
   "execution_count": 131,
   "id": "44ed25bd-ef37-4ab0-8953-39f393b7ef2f",
   "metadata": {},
   "outputs": [],
   "source": [
    "# fetch first index data and reassign other value:\n",
    "arr[0][0] = 5000"
   ]
  },
  {
   "cell_type": "code",
   "execution_count": 132,
   "id": "eb36947e-2f84-4219-ba6c-a8c713a3e726",
   "metadata": {},
   "outputs": [
    {
     "data": {
      "text/plain": [
       "array([[5000,   88,   86,   14,   24],\n",
       "       [  83,   44,   61,   27,    4],\n",
       "       [  50,   79,   49,    1,   50],\n",
       "       [   2,   76,    7,   21,   31],\n",
       "       [  11,   65,   24,   43,   57]])"
      ]
     },
     "execution_count": 132,
     "metadata": {},
     "output_type": "execute_result"
    }
   ],
   "source": [
    "arr"
   ]
  },
  {
   "cell_type": "markdown",
   "id": "23d6fce6-c841-49b8-9f2f-c3e89ff7890e",
   "metadata": {},
   "source": [
    "# Some in-built mathematical functions of numpy:"
   ]
  },
  {
   "cell_type": "code",
   "execution_count": 144,
   "id": "5bff4256-7c65-47fc-a09d-35e2972ccfa0",
   "metadata": {},
   "outputs": [],
   "source": [
    "arr1 = np.random.randint(1,3,[3,3])\n",
    "arr2 = np.random.randint(1,3,[3,3])"
   ]
  },
  {
   "cell_type": "code",
   "execution_count": 145,
   "id": "7ab21d0f-b3fb-4e95-90fa-767607df53c5",
   "metadata": {},
   "outputs": [
    {
     "data": {
      "text/plain": [
       "array([[2, 2, 1],\n",
       "       [2, 1, 1],\n",
       "       [2, 2, 2]])"
      ]
     },
     "execution_count": 145,
     "metadata": {},
     "output_type": "execute_result"
    }
   ],
   "source": [
    "arr1"
   ]
  },
  {
   "cell_type": "code",
   "execution_count": 146,
   "id": "6888f818-f49e-4e73-99f0-0aa74f60950e",
   "metadata": {},
   "outputs": [
    {
     "data": {
      "text/plain": [
       "array([[1, 2, 1],\n",
       "       [1, 1, 1],\n",
       "       [1, 1, 1]])"
      ]
     },
     "execution_count": 146,
     "metadata": {},
     "output_type": "execute_result"
    }
   ],
   "source": [
    "arr2"
   ]
  },
  {
   "cell_type": "code",
   "execution_count": 147,
   "id": "f57ccd86-a156-47ad-94ea-4217d8d38255",
   "metadata": {},
   "outputs": [
    {
     "data": {
      "text/plain": [
       "array([[3, 4, 2],\n",
       "       [3, 2, 2],\n",
       "       [3, 3, 3]])"
      ]
     },
     "execution_count": 147,
     "metadata": {},
     "output_type": "execute_result"
    }
   ],
   "source": [
    "# Addition of two arrays: index- index mapping\n",
    "arr1+arr2"
   ]
  },
  {
   "cell_type": "code",
   "execution_count": 148,
   "id": "1b968fdb-d242-428c-97ab-ba47ac338b10",
   "metadata": {},
   "outputs": [
    {
     "data": {
      "text/plain": [
       "array([[1, 0, 0],\n",
       "       [1, 0, 0],\n",
       "       [1, 1, 1]])"
      ]
     },
     "execution_count": 148,
     "metadata": {},
     "output_type": "execute_result"
    }
   ],
   "source": [
    "# Subtraction:\n",
    "arr1-arr2"
   ]
  },
  {
   "cell_type": "code",
   "execution_count": 149,
   "id": "d56d34f6-d9a6-44d4-8ee6-9c28a60cc288",
   "metadata": {},
   "outputs": [
    {
     "data": {
      "text/plain": [
       "array([[2., 1., 1.],\n",
       "       [2., 1., 1.],\n",
       "       [2., 2., 2.]])"
      ]
     },
     "execution_count": 149,
     "metadata": {},
     "output_type": "execute_result"
    }
   ],
   "source": [
    "# Division:\n",
    "arr1/arr2"
   ]
  },
  {
   "cell_type": "code",
   "execution_count": 150,
   "id": "fce3d60b-8c9f-480e-8937-2f86842bbf9e",
   "metadata": {},
   "outputs": [
    {
     "data": {
      "text/plain": [
       "array([[2, 4, 1],\n",
       "       [2, 1, 1],\n",
       "       [2, 2, 2]])"
      ]
     },
     "execution_count": 150,
     "metadata": {},
     "output_type": "execute_result"
    }
   ],
   "source": [
    "# Product: Simple index wise multiplication:\n",
    "arr1*arr2"
   ]
  },
  {
   "cell_type": "code",
   "execution_count": 151,
   "id": "fd815e11-6d18-4883-a276-9089da8873c9",
   "metadata": {},
   "outputs": [
    {
     "data": {
      "text/plain": [
       "array([[5, 7, 5],\n",
       "       [4, 6, 4],\n",
       "       [6, 8, 6]])"
      ]
     },
     "execution_count": 151,
     "metadata": {},
     "output_type": "execute_result"
    }
   ],
   "source": [
    "# # Now matrix multiplication:  @ used for matrix mul.\n",
    "# mxn  pxq\n",
    "# col of 1st matrix(n) ==(p) row of 2nd matrix :> multiplication condition\n",
    "# mxq\n",
    "arr1@arr2"
   ]
  },
  {
   "cell_type": "code",
   "execution_count": 152,
   "id": "feed443f-0be5-4774-9a05-583522f0d7db",
   "metadata": {},
   "outputs": [
    {
     "name": "stderr",
     "output_type": "stream",
     "text": [
      "/tmp/ipykernel_124/1802407884.py:2: RuntimeWarning: divide by zero encountered in divide\n",
      "  arr1/0\n"
     ]
    },
    {
     "data": {
      "text/plain": [
       "array([[inf, inf, inf],\n",
       "       [inf, inf, inf],\n",
       "       [inf, inf, inf]])"
      ]
     },
     "execution_count": 152,
     "metadata": {},
     "output_type": "execute_result"
    }
   ],
   "source": [
    "# Divide by 0 == produces inf\n",
    "arr1/0"
   ]
  },
  {
   "cell_type": "code",
   "execution_count": 153,
   "id": "ee13a26e-10ad-4b15-acce-c7bd722ebe0b",
   "metadata": {},
   "outputs": [
    {
     "data": {
      "text/plain": [
       "array([[102, 102, 101],\n",
       "       [102, 101, 101],\n",
       "       [102, 102, 102]])"
      ]
     },
     "execution_count": 153,
     "metadata": {},
     "output_type": "execute_result"
    }
   ],
   "source": [
    "# Add some value to each element\n",
    "arr1 +100"
   ]
  },
  {
   "cell_type": "code",
   "execution_count": 154,
   "id": "c766978d-78f2-4f9c-a3fe-2cee677e6da0",
   "metadata": {},
   "outputs": [
    {
     "data": {
      "text/plain": [
       "array([[4, 4, 1],\n",
       "       [4, 1, 1],\n",
       "       [4, 4, 4]])"
      ]
     },
     "execution_count": 154,
     "metadata": {},
     "output_type": "execute_result"
    }
   ],
   "source": [
    "# Square of each element:\n",
    "arr1**2"
   ]
  },
  {
   "cell_type": "markdown",
   "id": "4f99a9e0-a6bb-450c-9c20-0dcb41f34c60",
   "metadata": {},
   "source": [
    "# Broad-casting in NumPy:"
   ]
  },
  {
   "cell_type": "code",
   "execution_count": 156,
   "id": "3b836afe-31e1-402d-b5ef-37e976cbfd1b",
   "metadata": {},
   "outputs": [],
   "source": [
    "arr = np.zeros((4,4))"
   ]
  },
  {
   "cell_type": "code",
   "execution_count": 157,
   "id": "6f856c30-8779-4e89-ada9-72e7cc290ac9",
   "metadata": {},
   "outputs": [
    {
     "data": {
      "text/plain": [
       "array([[0., 0., 0., 0.],\n",
       "       [0., 0., 0., 0.],\n",
       "       [0., 0., 0., 0.],\n",
       "       [0., 0., 0., 0.]])"
      ]
     },
     "execution_count": 157,
     "metadata": {},
     "output_type": "execute_result"
    }
   ],
   "source": [
    "arr"
   ]
  },
  {
   "cell_type": "code",
   "execution_count": 158,
   "id": "9621b51d-0c74-4c60-ac52-9c5f4fe26e9e",
   "metadata": {},
   "outputs": [],
   "source": [
    "row = np.array([1,2,3,4])"
   ]
  },
  {
   "cell_type": "code",
   "execution_count": 159,
   "id": "e55be418-06d8-4bc1-ad39-20a4af46181d",
   "metadata": {},
   "outputs": [
    {
     "data": {
      "text/plain": [
       "array([1, 2, 3, 4])"
      ]
     },
     "execution_count": 159,
     "metadata": {},
     "output_type": "execute_result"
    }
   ],
   "source": [
    "row"
   ]
  },
  {
   "cell_type": "code",
   "execution_count": 160,
   "id": "a047bfdf-fed8-4960-a065-ebb655490ae8",
   "metadata": {},
   "outputs": [
    {
     "data": {
      "text/plain": [
       "array([[1., 2., 3., 4.],\n",
       "       [1., 2., 3., 4.],\n",
       "       [1., 2., 3., 4.],\n",
       "       [1., 2., 3., 4.]])"
      ]
     },
     "execution_count": 160,
     "metadata": {},
     "output_type": "execute_result"
    }
   ],
   "source": [
    "#Broadcasting >>  Maps linear array value to defined array \n",
    "arr + row"
   ]
  },
  {
   "cell_type": "code",
   "execution_count": 165,
   "id": "da139979-7dde-4c9b-abbf-3584d954718b",
   "metadata": {},
   "outputs": [
    {
     "data": {
      "text/plain": [
       "array([1, 2, 3, 4])"
      ]
     },
     "execution_count": 165,
     "metadata": {},
     "output_type": "execute_result"
    }
   ],
   "source": [
    "# Can be possible with columns also: Need to rotate the linear array then broadcast\n",
    "# 1-D array can't be transposed.\n",
    "row.T"
   ]
  },
  {
   "cell_type": "code",
   "execution_count": 166,
   "id": "15defaa7-1dc8-4915-86a6-13bbd89ce906",
   "metadata": {},
   "outputs": [],
   "source": [
    "# Creating col :\n",
    "col = np.array([[1,2,3,4]])"
   ]
  },
  {
   "cell_type": "code",
   "execution_count": 167,
   "id": "3e9dabc5-6362-4313-96f3-4414a4c4e1dd",
   "metadata": {},
   "outputs": [
    {
     "data": {
      "text/plain": [
       "array([[1, 2, 3, 4]])"
      ]
     },
     "execution_count": 167,
     "metadata": {},
     "output_type": "execute_result"
    }
   ],
   "source": [
    "col"
   ]
  },
  {
   "cell_type": "code",
   "execution_count": 173,
   "id": "824eab3d-84fd-43d1-9a9c-d0b23dfffe5c",
   "metadata": {},
   "outputs": [
    {
     "data": {
      "text/plain": [
       "array([[1],\n",
       "       [2],\n",
       "       [3],\n",
       "       [4]])"
      ]
     },
     "execution_count": 173,
     "metadata": {},
     "output_type": "execute_result"
    }
   ],
   "source": [
    "col.T"
   ]
  },
  {
   "cell_type": "code",
   "execution_count": 174,
   "id": "d77eaa3a-fd24-4496-9709-96b2c0a13f17",
   "metadata": {},
   "outputs": [
    {
     "data": {
      "text/plain": [
       "array([[1., 1., 1., 1.],\n",
       "       [2., 2., 2., 2.],\n",
       "       [3., 3., 3., 3.],\n",
       "       [4., 4., 4., 4.]])"
      ]
     },
     "execution_count": 174,
     "metadata": {},
     "output_type": "execute_result"
    }
   ],
   "source": [
    "col.T+arr"
   ]
  },
  {
   "cell_type": "code",
   "execution_count": 177,
   "id": "b42139fb-bb9c-4cd0-abfb-89cd0883cf83",
   "metadata": {},
   "outputs": [],
   "source": [
    "# Some more mathematical functions:\n",
    "arr1 = np.random.randint(1,4,(3,4))"
   ]
  },
  {
   "cell_type": "code",
   "execution_count": 178,
   "id": "502d1c08-454d-4883-b082-0494e9a5790c",
   "metadata": {},
   "outputs": [
    {
     "data": {
      "text/plain": [
       "array([[3, 1, 2, 1],\n",
       "       [2, 1, 1, 1],\n",
       "       [2, 3, 1, 1]])"
      ]
     },
     "execution_count": 178,
     "metadata": {},
     "output_type": "execute_result"
    }
   ],
   "source": [
    "arr1"
   ]
  },
  {
   "cell_type": "code",
   "execution_count": 179,
   "id": "e0374017-1359-4041-a04d-a392dc752b93",
   "metadata": {},
   "outputs": [
    {
     "data": {
      "text/plain": [
       "array([[1.73205081, 1.        , 1.41421356, 1.        ],\n",
       "       [1.41421356, 1.        , 1.        , 1.        ],\n",
       "       [1.41421356, 1.73205081, 1.        , 1.        ]])"
      ]
     },
     "execution_count": 179,
     "metadata": {},
     "output_type": "execute_result"
    }
   ],
   "source": [
    "# To fetch square root of elements:\n",
    "np.sqrt(arr1)"
   ]
  },
  {
   "cell_type": "code",
   "execution_count": 180,
   "id": "4fc8fc9a-457a-4c57-9ac9-fc5a44236406",
   "metadata": {},
   "outputs": [
    {
     "data": {
      "text/plain": [
       "array([[20.08553692,  2.71828183,  7.3890561 ,  2.71828183],\n",
       "       [ 7.3890561 ,  2.71828183,  2.71828183,  2.71828183],\n",
       "       [ 7.3890561 , 20.08553692,  2.71828183,  2.71828183]])"
      ]
     },
     "execution_count": 180,
     "metadata": {},
     "output_type": "execute_result"
    }
   ],
   "source": [
    "# To calculate exponent:\n",
    "np.exp(arr1)"
   ]
  },
  {
   "cell_type": "code",
   "execution_count": 181,
   "id": "df0c0410-9941-4908-88ac-e834fc28fcf4",
   "metadata": {},
   "outputs": [
    {
     "data": {
      "text/plain": [
       "array([[0.47712125, 0.        , 0.30103   , 0.        ],\n",
       "       [0.30103   , 0.        , 0.        , 0.        ],\n",
       "       [0.30103   , 0.47712125, 0.        , 0.        ]])"
      ]
     },
     "execution_count": 181,
     "metadata": {},
     "output_type": "execute_result"
    }
   ],
   "source": [
    "# To calculate log:\n",
    "np.log10(arr1)"
   ]
  },
  {
   "cell_type": "code",
   "execution_count": null,
   "id": "f8b361ff-13e2-4aa8-9e8d-d53f2dc46152",
   "metadata": {},
   "outputs": [],
   "source": []
  }
 ],
 "metadata": {
  "kernelspec": {
   "display_name": "Python 3 (ipykernel)",
   "language": "python",
   "name": "python3"
  },
  "language_info": {
   "codemirror_mode": {
    "name": "ipython",
    "version": 3
   },
   "file_extension": ".py",
   "mimetype": "text/x-python",
   "name": "python",
   "nbconvert_exporter": "python",
   "pygments_lexer": "ipython3",
   "version": "3.10.8"
  }
 },
 "nbformat": 4,
 "nbformat_minor": 5
}
